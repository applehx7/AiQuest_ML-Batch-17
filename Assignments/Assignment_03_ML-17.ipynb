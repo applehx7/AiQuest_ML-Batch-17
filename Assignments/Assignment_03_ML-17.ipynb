{
 "cells": [
  {
   "cell_type": "markdown",
   "id": "f0c81373",
   "metadata": {},
   "source": [
    "# Basic Problems:"
   ]
  },
  {
   "cell_type": "markdown",
   "id": "d581b2d8",
   "metadata": {},
   "source": [
    "### 1. Variable Swap: Write a Python program to swap the values of two variables without using a temporary variable."
   ]
  },
  {
   "cell_type": "code",
   "execution_count": 1,
   "id": "673b84be",
   "metadata": {},
   "outputs": [
    {
     "name": "stdout",
     "output_type": "stream",
     "text": [
      "Before: Var 1: First Var assigned value\n",
      "Before: Var 2: Second Var assigned value\n",
      "After: Var 1: Second Var assigned value\n",
      "After: Var 2: First Var assigned value\n"
     ]
    }
   ],
   "source": [
    "first_var = 'First Var assigned value'\n",
    "second_var = 'Second Var assigned value'\n",
    "print(f\"Before: Var 1: {first_var}\\nBefore: Var 2: {second_var}\")\n",
    "first_var, second_var = second_var, first_var\n",
    "print(f\"After: Var 1: {first_var}\\nAfter: Var 2: {second_var}\")"
   ]
  },
  {
   "cell_type": "markdown",
   "id": "5d13b705",
   "metadata": {},
   "source": [
    "### 2. Even or Odd: Write a Python program that takes an integer as input and prints whether it is even or odd."
   ]
  },
  {
   "cell_type": "code",
   "execution_count": 2,
   "id": "636c723f",
   "metadata": {},
   "outputs": [
    {
     "name": "stdin",
     "output_type": "stream",
     "text": [
      "Type an Integer:  12\n"
     ]
    },
    {
     "name": "stdout",
     "output_type": "stream",
     "text": [
      "Even\n"
     ]
    }
   ],
   "source": [
    "def even_or_odd(n):\n",
    "    if n%2 == 0:\n",
    "        return 'Even'\n",
    "    else:\n",
    "        return 'Odd'\n",
    "\n",
    "int_input = int(input('Type an Integer: '))\n",
    "print(even_or_odd(int_input))"
   ]
  },
  {
   "cell_type": "markdown",
   "id": "757dafa9",
   "metadata": {},
   "source": [
    "### 3. String Reverse: Write a Python function to reverse a given string and return the reversed string."
   ]
  },
  {
   "cell_type": "code",
   "execution_count": 3,
   "id": "2ca14fad",
   "metadata": {},
   "outputs": [
    {
     "name": "stdout",
     "output_type": "stream",
     "text": [
      "olleH\n"
     ]
    }
   ],
   "source": [
    "def reverse(string):\n",
    "    new_string = ''\n",
    "    lenght = len(string)\n",
    "    for i in range(lenght, 0, -1):\n",
    "        new_string += str(string[i-1])\n",
    "    return new_string\n",
    "\n",
    "print(reverse('Hello'))"
   ]
  },
  {
   "cell_type": "markdown",
   "id": "278fed01",
   "metadata": {},
   "source": [
    "### 4. Type Conversion: Given a list of integers, write a Python program to convert each element of the list to a string."
   ]
  },
  {
   "cell_type": "code",
   "execution_count": 4,
   "id": "aee4d1c4",
   "metadata": {},
   "outputs": [
    {
     "name": "stdout",
     "output_type": "stream",
     "text": [
      "[1, 2, 3, 12, 13, 14, 15]\n",
      "['1', '2', '3', '12', '13', '14', '15']\n"
     ]
    }
   ],
   "source": [
    "int_list = [1, 2, 3, 12, 13, 14, 15]\n",
    "converted_list = [str(i) for i in int_list]\n",
    "\n",
    "print(int_list)\n",
    "print(converted_list)"
   ]
  },
  {
   "cell_type": "markdown",
   "id": "0401e3bf",
   "metadata": {},
   "source": [
    "### 5. Temperature Converter: Write a Python program that converts a temperature in Celsius to Fahrenheit. Take the Celsius temperature as input from the user."
   ]
  },
  {
   "cell_type": "code",
   "execution_count": 5,
   "id": "c625b433",
   "metadata": {},
   "outputs": [
    {
     "name": "stdin",
     "output_type": "stream",
     "text": [
      "Temperature in Celsius:  43\n"
     ]
    },
    {
     "name": "stdout",
     "output_type": "stream",
     "text": [
      "43°C is equal to 109.4°F\n"
     ]
    }
   ],
   "source": [
    "def convert_cel_to_far(cel):\n",
    "    return (cel * 9/5) + 32\n",
    "\n",
    "celsius = int(input(\"Temperature in Celsius: \"))\n",
    "farenheit = convert_cel_to_far(celsius)\n",
    "\n",
    "print(f\"{celsius}°C is equal to {farenheit}°F\")"
   ]
  },
  {
   "cell_type": "markdown",
   "id": "89e85c8a",
   "metadata": {},
   "source": [
    "### 6. Data Type Checker: Write a Python function that takes a variable as input and returns the data type of the variable as a string (e.g., “int”, “float”, “str”, “list”, etc.)."
   ]
  },
  {
   "cell_type": "code",
   "execution_count": 6,
   "id": "2faab858",
   "metadata": {},
   "outputs": [
    {
     "name": "stdout",
     "output_type": "stream",
     "text": [
      "int\n",
      "str\n",
      "float\n",
      "list\n"
     ]
    }
   ],
   "source": [
    "def data_type_checker(var):\n",
    "    typ = str(type(var))\n",
    "    return typ.split(\"'\")[1]\n",
    "\n",
    "variable1 = 45\n",
    "variable2 = \"Hello\"\n",
    "variable3 = 11.11\n",
    "variable4 = [1, 2, 3]\n",
    "\n",
    "print(data_type_checker(variable1))\n",
    "print(data_type_checker(variable2))\n",
    "print(data_type_checker(variable3))\n",
    "print(data_type_checker(variable4))"
   ]
  },
  {
   "cell_type": "markdown",
   "id": "3e734f4e",
   "metadata": {},
   "source": [
    "### 7. String Palindrome: Write a Python function to check if a given string is a palindrome or not."
   ]
  },
  {
   "cell_type": "code",
   "execution_count": 7,
   "id": "6ea948c3",
   "metadata": {},
   "outputs": [
    {
     "name": "stdin",
     "output_type": "stream",
     "text": [
      "Type a String:  Hello World\n"
     ]
    },
    {
     "name": "stdout",
     "output_type": "stream",
     "text": [
      "Not Palindrome\n"
     ]
    }
   ],
   "source": [
    "def check_palindrome(string):\n",
    "    string = string.lower()\n",
    "    reverse_string = (string[::-1]).lower()\n",
    "    if reverse_string == string:\n",
    "        return 'Palindrome'\n",
    "    else:\n",
    "        return 'Not Palindrome'\n",
    "\n",
    "inp_string = input(\"Type a String: \")\n",
    "print(check_palindrome(inp_string))"
   ]
  },
  {
   "cell_type": "markdown",
   "id": "75bf1ca4",
   "metadata": {},
   "source": [
    "### 8. String Reversal with Slicing: Write a Python function to reverse a given string using slicing."
   ]
  },
  {
   "cell_type": "code",
   "execution_count": 8,
   "id": "75ea9294",
   "metadata": {},
   "outputs": [
    {
     "name": "stdout",
     "output_type": "stream",
     "text": [
      "dlrow olleH\n"
     ]
    }
   ],
   "source": [
    "def reverse(string):\n",
    "    return string[::-1]\n",
    "\n",
    "print(reverse('Hello world'))"
   ]
  },
  {
   "cell_type": "markdown",
   "id": "bdbbd73d",
   "metadata": {},
   "source": [
    "### 9. String Concatenation: Write a Python program that takes two strings as input and concatenates them into a single string without using the `+` operator."
   ]
  },
  {
   "cell_type": "code",
   "execution_count": 9,
   "id": "afad2409",
   "metadata": {},
   "outputs": [
    {
     "name": "stdin",
     "output_type": "stream",
     "text": [
      "String 1: Hello world\n",
      "String 2: Hello Mars\n"
     ]
    },
    {
     "name": "stdout",
     "output_type": "stream",
     "text": [
      "Single String:\n",
      "\tWithout Space: Hello worldHello Mars\n",
      "\tWith Space: Hello world Hello Mars\n"
     ]
    }
   ],
   "source": [
    "string1 = input(\"String 1:\")\n",
    "string2 = input(\"String 2:\")\n",
    "\n",
    "single_str = ''.join([string1, string2])\n",
    "single_str_withSpace = ' '.join([string1, string2])\n",
    "\n",
    "print(f\"Single String:\\n\\tWithout Space: {single_str}\\n\\tWith Space: {single_str_withSpace}\")"
   ]
  },
  {
   "cell_type": "markdown",
   "id": "6ed7fc45",
   "metadata": {},
   "source": [
    "### 10. Typecasting Challenge: Given three variables: `a = ‘100’`, `b = 25`, and `c = ‘10.5’`, write a Python program to perform the following operations and print the results:\n",
    "– Convert `a` to an integer and add it to `b`.\n",
    "– Convert `c` to a float and subtract it from the result of the first operation.\n",
    "– Convert the final result to a string and concatenate it with the string ” is the answer.”"
   ]
  },
  {
   "cell_type": "code",
   "execution_count": 10,
   "id": "b0d83a90",
   "metadata": {},
   "outputs": [
    {
     "name": "stdout",
     "output_type": "stream",
     "text": [
      "114.5 is the answer\n"
     ]
    }
   ],
   "source": [
    "#given Variables\n",
    "a = '100'\n",
    "b = 25\n",
    "c = '10.5'\n",
    "\n",
    "first_op_res = int(a) + b\n",
    "final_result = first_op_res - float(c)\n",
    "string = \" is the answer\"\n",
    "print(''.join([str(final_result), string]))"
   ]
  },
  {
   "cell_type": "markdown",
   "id": "b4d73ac0",
   "metadata": {},
   "source": [
    "# Python Conditional Statements:\n"
   ]
  },
  {
   "cell_type": "markdown",
   "id": "42e3d8ba",
   "metadata": {},
   "source": [
    "### 11. Positive, Negative, or Zero: Write a Python program that takes a number as input and prints whether it is positive, negative, or zero."
   ]
  },
  {
   "cell_type": "code",
   "execution_count": 11,
   "id": "a9af0f87",
   "metadata": {},
   "outputs": [
    {
     "name": "stdin",
     "output_type": "stream",
     "text": [
      "Enter an int:  43\n"
     ]
    },
    {
     "name": "stdout",
     "output_type": "stream",
     "text": [
      "43 is Positive\n"
     ]
    }
   ],
   "source": [
    "def pnz(n):\n",
    "    if n > 0:\n",
    "        return 'Positive'\n",
    "    elif n < 0:\n",
    "        return 'Negative'\n",
    "    elif n == 0:\n",
    "        return 'Zero'\n",
    "\n",
    "inp = input(\"Enter an int: \")\n",
    "print(f\"{inp} is {pnz(float(inp))}\")"
   ]
  },
  {
   "cell_type": "markdown",
   "id": "39adafa6",
   "metadata": {},
   "source": [
    "### 12. Largest of Three Numbers: Write a Python program that takes three numbers as input and prints the largest among them."
   ]
  },
  {
   "cell_type": "code",
   "execution_count": 12,
   "id": "9cde7d81",
   "metadata": {},
   "outputs": [
    {
     "name": "stdin",
     "output_type": "stream",
     "text": [
      "Enter number 1: 5\n",
      "Enter number 2: 4\n",
      "Enter number 3: 6\n"
     ]
    },
    {
     "name": "stdout",
     "output_type": "stream",
     "text": [
      "6\n"
     ]
    }
   ],
   "source": [
    "li = []\n",
    "for i in range(3):\n",
    "    inp = input(f\"Enter number {i+1}:\")\n",
    "    li.append(int(inp))\n",
    "\n",
    "print(max(li))"
   ]
  },
  {
   "cell_type": "markdown",
   "id": "c86d355a",
   "metadata": {},
   "source": [
    "### 13. Leap Year Checker: Write a Python program that takes a year as input and determines if it is a leap year or not."
   ]
  },
  {
   "cell_type": "code",
   "execution_count": 13,
   "id": "e42993e8",
   "metadata": {},
   "outputs": [
    {
     "name": "stdin",
     "output_type": "stream",
     "text": [
      "Type your year (YYYY):  1999\n"
     ]
    },
    {
     "name": "stdout",
     "output_type": "stream",
     "text": [
      "1999 is not a leap year\n"
     ]
    }
   ],
   "source": [
    "def is_leap(year):\n",
    "    if year%4 == 0:\n",
    "        if year%100 == 0:\n",
    "            if year%400 == 0:\n",
    "                return True\n",
    "            else:\n",
    "                return False\n",
    "        else:\n",
    "            return True\n",
    "    else:\n",
    "        return False\n",
    "    \n",
    "input_year = int(input(\"Type your year (YYYY): \"))\n",
    "print(f\"{input_year} is a leap year\" if is_leap(input_year) else f\"{input_year} is not a leap year\")"
   ]
  },
  {
   "cell_type": "markdown",
   "id": "b238f421",
   "metadata": {},
   "source": [
    "### 14. Grades Classification: Write a Python program that takes a student’s percentage as input and prints their corresponding grade according to the following criteria:\n",
    "– 90% or above: A+\n",
    "– 80-89%: A\n",
    "– 70-79%: B\n",
    "– 60-69%: C\n",
    "– Below 60%: Fail"
   ]
  },
  {
   "cell_type": "code",
   "execution_count": 14,
   "id": "3d565293",
   "metadata": {},
   "outputs": [
    {
     "name": "stdin",
     "output_type": "stream",
     "text": [
      "Enter your student's percentage(without '%'):  33\n"
     ]
    },
    {
     "name": "stdout",
     "output_type": "stream",
     "text": [
      "Student Failed, F\n"
     ]
    }
   ],
   "source": [
    "def get_grade(percentage):\n",
    "    if percentage >= 90:\n",
    "        return \"Passed, A+\"\n",
    "    elif percentage >= 80:\n",
    "        return \"Passed, A\"\n",
    "    elif percentage >= 70:\n",
    "        return \"Passed, B\"\n",
    "    elif percentage >= 60:\n",
    "        return \"Passed, C\"\n",
    "    else:\n",
    "        return \"Failed, F\"\n",
    "    \n",
    "userinp = float(input(\"Enter your student's percentage(without '%'): \"))\n",
    "\n",
    "if 0 > userinp or userinp > 100:\n",
    "    print(\"Invalid Input!!\")\n",
    "else:\n",
    "    print(f\"Student {get_grade(userinp)}\")"
   ]
  },
  {
   "cell_type": "markdown",
   "id": "3696dafd",
   "metadata": {},
   "source": [
    "### 15. Vowel or Consonant: Write a Python program that takes a single character as input and determines whether it is a vowel or a consonant."
   ]
  },
  {
   "cell_type": "code",
   "execution_count": 15,
   "id": "e64d0dd2",
   "metadata": {},
   "outputs": [
    {
     "name": "stdin",
     "output_type": "stream",
     "text": [
      "Enter a character:  a\n"
     ]
    },
    {
     "name": "stdout",
     "output_type": "stream",
     "text": [
      "a is vowel\n"
     ]
    }
   ],
   "source": [
    "def check_vowel(char, vowel_list):\n",
    "    if char.lower() in vowel_list:\n",
    "        return True\n",
    "\n",
    "\n",
    "\n",
    "vowel = ['a', 'e', 'i', 'o', 'u']\n",
    "userinp = input(\"Enter a character: \")\n",
    "if len(userinp) != 1:\n",
    "    print(\"Invalid Input!!\")\n",
    "else:\n",
    "    if check_vowel(userinp, vowel): \n",
    "        print(userinp + \" is vowel\")\n",
    "    else:\n",
    "        print(userinp + \" is consonant\")"
   ]
  },
  {
   "cell_type": "markdown",
   "id": "aa575188",
   "metadata": {},
   "source": [
    "### 16. Time Classification: Write a Python program that takes the time in hours (24-hour format) as input and prints “Good Morning”, “Good Afternoon”, “Good Evening”, or “Good Night” based on the time."
   ]
  },
  {
   "cell_type": "code",
   "execution_count": 16,
   "id": "87a904d0",
   "metadata": {},
   "outputs": [
    {
     "name": "stdin",
     "output_type": "stream",
     "text": [
      "Input hour format(hh) 24h format:  12\n"
     ]
    },
    {
     "name": "stdout",
     "output_type": "stream",
     "text": [
      "Good Morning!\n"
     ]
    }
   ],
   "source": [
    "hour = int(input(\"Input hour format(hh) 24h format: \"))\n",
    "\n",
    "if hour >= 0 and hour < 6:\n",
    "    print(\"Good Night!\")\n",
    "elif hour <= 12 and hour >= 6:\n",
    "    print(\"Good Morning!\")\n",
    "elif hour <= 18 and hour > 12: \n",
    "    print(\"Good Afternoon!\")\n",
    "elif hour > 18 and hour <=23:\n",
    "    print(\"Good Evening!\")\n",
    "else:\n",
    "    print(\"Invalid input!\")"
   ]
  },
  {
   "cell_type": "markdown",
   "id": "ab314dfe",
   "metadata": {},
   "source": [
    "### 17. Triangle Type Checker: Write a Python program that takes three sides of a triangle as input and determines whether it forms an equilateral, isosceles, or scalene triangle."
   ]
  },
  {
   "cell_type": "code",
   "execution_count": 17,
   "id": "10d39d9d",
   "metadata": {},
   "outputs": [
    {
     "name": "stdin",
     "output_type": "stream",
     "text": [
      "Type side 1 Length:  4\n",
      "Type side 2 Length:  5\n",
      "Type side 3 Length:  8\n"
     ]
    },
    {
     "name": "stdout",
     "output_type": "stream",
     "text": [
      "Scalene Triangle\n"
     ]
    }
   ],
   "source": [
    "sides = set()\n",
    "for i in range(3):\n",
    "    inp = float(input(f\"Type side {i+1} Length: \"))\n",
    "    sides.add(inp)\n",
    "    \n",
    "length = len(sides)\n",
    "\n",
    "if length == 3:\n",
    "    print(\"Scalene Triangle\")\n",
    "elif length == 2:\n",
    "    print(\"Isosceles Triangle\")\n",
    "elif length == 1:\n",
    "    print(\"Equilateral Triangle\")"
   ]
  },
  {
   "cell_type": "markdown",
   "id": "95e5f6de",
   "metadata": {},
   "source": [
    "### 18. Quadratic Equation Solver: Write a Python program that takes the coefficients (a, b, c) of a quadratic equation as input and calculates and prints the real roots (if they exist) or a message indicating the complex roots."
   ]
  },
  {
   "cell_type": "code",
   "execution_count": 18,
   "id": "bfe41e82",
   "metadata": {},
   "outputs": [
    {
     "name": "stdin",
     "output_type": "stream",
     "text": [
      "Enter a: 4\n",
      "Enter b: 6\n",
      "Enter c: 2\n"
     ]
    },
    {
     "name": "stdout",
     "output_type": "stream",
     "text": [
      "Root 1: -0.5\n",
      "Root 2: -1.0\n"
     ]
    }
   ],
   "source": [
    "import math\n",
    "\n",
    "a = int(input(\"Enter a:\"))\n",
    "b = int(input(\"Enter b:\"))\n",
    "c = int(input(\"Enter c:\"))\n",
    "\n",
    "def get_roots(a,b,c):\n",
    "    x1 = (-b + math.sqrt(b**2 - 4*a*c)) / (2*a)\n",
    "    x2 = (-b - math.sqrt(b**2 - 4*a*c)) / (2*a)\n",
    "    return x1, x2\n",
    "\n",
    "root1, root2 = get_roots(a, b, c)\n",
    "\n",
    "if root1 is not None and root2 is not None:\n",
    "    print(f\"Root 1: {root1}\")\n",
    "    print(f\"Root 2: {root2}\")\n",
    "else:\n",
    "    print(\"The quadratic equation has complex roots.\")\n"
   ]
  },
  {
   "cell_type": "markdown",
   "id": "4f2796dc",
   "metadata": {},
   "source": [
    "### 19. Number Ranges: Write a Python program that takes an integer as input and prints whether the number falls within the ranges: 0-50, 51-100, 101-150, or above 150."
   ]
  },
  {
   "cell_type": "code",
   "execution_count": 19,
   "id": "1f49da5a",
   "metadata": {},
   "outputs": [
    {
     "name": "stdin",
     "output_type": "stream",
     "text": [
      "Enter Number:  345\n"
     ]
    },
    {
     "name": "stdout",
     "output_type": "stream",
     "text": [
      "Number is in range above 150\n"
     ]
    }
   ],
   "source": [
    "try:\n",
    "    number = int(input(\"Enter Number: \"))\n",
    "    if number in range(0, 50+1):\n",
    "        print(\"Number is in range 0-50\")\n",
    "    elif number in range(51, 100+1):\n",
    "        print(\"Number is in range 50-100\")\n",
    "    elif number in range(100, 150+1):\n",
    "        print(\"Number is in range 101-150\")\n",
    "    elif number > 150:\n",
    "        print(\"Number is in range above 150\")\n",
    "    else:\n",
    "        print(\"Inavlid Input. Number should be greater than 0\")\n",
    "except ValueError:\n",
    "    print(\"Invalid Input!\")"
   ]
  },
  {
   "cell_type": "markdown",
   "id": "b58a4c03",
   "metadata": {},
   "source": [
    "# For & While Loops:"
   ]
  },
  {
   "cell_type": "markdown",
   "id": "45e709ad",
   "metadata": {},
   "source": [
    "### 20. Sum of N Numbers: Write a Python program using a for loop to calculate the sum of the first N natural numbers, where N is taken as input from the user."
   ]
  },
  {
   "cell_type": "code",
   "execution_count": 20,
   "id": "24a29e68",
   "metadata": {},
   "outputs": [
    {
     "name": "stdin",
     "output_type": "stream",
     "text": [
      "Enter a number:  234\n"
     ]
    },
    {
     "name": "stdout",
     "output_type": "stream",
     "text": [
      "The sum of first 234 natural numbers is 27495\n"
     ]
    }
   ],
   "source": [
    "n = int(input(\"Enter a number: \"))\n",
    "result = 0\n",
    "for i in range(0, n+1):\n",
    "    result += i\n",
    "print(f\"The sum of first {n} natural numbers is {result}\")"
   ]
  },
  {
   "cell_type": "markdown",
   "id": "14ca15d9-256f-466a-89fb-3d18a6d90eed",
   "metadata": {},
   "source": [
    "### 21. Factorial Calculator: Write a Python program using a while loop to calculate the factorial of a given number N."
   ]
  },
  {
   "cell_type": "code",
   "execution_count": 21,
   "id": "6369d486",
   "metadata": {},
   "outputs": [
    {
     "name": "stdin",
     "output_type": "stream",
     "text": [
      "Type the N:  3\n"
     ]
    },
    {
     "name": "stdout",
     "output_type": "stream",
     "text": [
      "Factorial is 6\n"
     ]
    }
   ],
   "source": [
    "n = int(input(\"Type the N: \"))\n",
    "factorial = 1\n",
    "if n < 0:\n",
    "    print(\"Negative numbers not allowed\")\n",
    "elif n == 0:\n",
    "    print(f\"Factorial is {factorial}\")\n",
    "else:\n",
    "    while n > 0:\n",
    "        factorial *= n\n",
    "        n -= 1\n",
    "    print(f\"Factorial is {factorial}\")"
   ]
  },
  {
   "cell_type": "markdown",
   "id": "a65fd368-b02a-4cd2-9bc5-bc8508ed8763",
   "metadata": {},
   "source": [
    "### 22. Table of a Number: Write a Python program using a for loop to print the multiplication table of a given number N."
   ]
  },
  {
   "cell_type": "code",
   "execution_count": 22,
   "id": "e4fb5be5-4028-4f6b-b4da-cabf48ace11c",
   "metadata": {},
   "outputs": [
    {
     "name": "stdin",
     "output_type": "stream",
     "text": [
      "Number:  5\n"
     ]
    },
    {
     "name": "stdout",
     "output_type": "stream",
     "text": [
      "5 x 0 = 0\n",
      "5 x 1 = 5\n",
      "5 x 2 = 10\n",
      "5 x 3 = 15\n",
      "5 x 4 = 20\n",
      "5 x 5 = 25\n",
      "5 x 6 = 30\n",
      "5 x 7 = 35\n",
      "5 x 8 = 40\n",
      "5 x 9 = 45\n",
      "5 x 10 = 50\n"
     ]
    }
   ],
   "source": [
    "n = int(input(\"Number: \"))\n",
    "\n",
    "for i in range(11):\n",
    "    print(f\"{n} x {i} =\", n*i)"
   ]
  },
  {
   "cell_type": "markdown",
   "id": "b260f3ba-b841-4465-8efb-e7b4e2d54581",
   "metadata": {},
   "source": [
    "### 23. Count Digits in a Number: Write a Python program using a while loop to count the number of digits in a given integer N."
   ]
  },
  {
   "cell_type": "code",
   "execution_count": 23,
   "id": "9fd90e0d-7ac0-45d3-9681-2c690bce7bef",
   "metadata": {},
   "outputs": [
    {
     "name": "stdin",
     "output_type": "stream",
     "text": [
      "Type Number:  6\n"
     ]
    },
    {
     "name": "stdout",
     "output_type": "stream",
     "text": [
      "Digits Count for 6 is 1\n"
     ]
    }
   ],
   "source": [
    "n = int(input(\"Type Number: \"))\n",
    "N = abs(n)\n",
    "count = 0\n",
    "while N > 0:\n",
    "    N //= 10\n",
    "    count += 1\n",
    "print(f\"Digits Count for {n} is {count}\")"
   ]
  },
  {
   "cell_type": "markdown",
   "id": "7a6d09f0-0f98-4b75-a2e0-5084591133f5",
   "metadata": {},
   "source": [
    "### 24. Fibonacci Sequence: Write a Python program using a for loop to generate the Fibonacci sequence up to a given limit N.\n",
    "\n"
   ]
  },
  {
   "cell_type": "code",
   "execution_count": 24,
   "id": "c7020876-863d-4936-9786-17bc57b77a95",
   "metadata": {},
   "outputs": [
    {
     "name": "stdin",
     "output_type": "stream",
     "text": [
      "Type N:  2\n"
     ]
    },
    {
     "name": "stdout",
     "output_type": "stream",
     "text": [
      "0\n",
      "1\n"
     ]
    }
   ],
   "source": [
    "n = int(input(\"Type N: \"))\n",
    "\n",
    "n1 = 0\n",
    "n2 = 1\n",
    "print(n1)\n",
    "print(n2)\n",
    "for i in range(2, n):\n",
    "    n3 = n1 + n2\n",
    "    if n3 > n:\n",
    "        break\n",
    "    print(n3)\n",
    "    n1, n2 = n2, n3"
   ]
  },
  {
   "cell_type": "markdown",
   "id": "6c1dbe53",
   "metadata": {},
   "source": [
    "### 25.Sum of Even Numbers: Write a Python program using a while loop to calculate the sum of all even numbers between 1 and N, where N is taken as input from the user."
   ]
  },
  {
   "cell_type": "code",
   "execution_count": 25,
   "id": "389718b1",
   "metadata": {},
   "outputs": [
    {
     "name": "stdin",
     "output_type": "stream",
     "text": [
      "Enter a number:  6\n"
     ]
    },
    {
     "name": "stdout",
     "output_type": "stream",
     "text": [
      "0\n",
      "2\n",
      "4\n",
      "6\n",
      "Sum of all the even numbers is {n1}\n"
     ]
    }
   ],
   "source": [
    "\n",
    "n = int(input('Enter a number: '))\n",
    "n1 = 0\n",
    "i = 0\n",
    "while i <= n:\n",
    "    if i % 2 == 0:\n",
    "        print(i)\n",
    "        n1+=i\n",
    "    i+=1\n",
    "print(\"Sum of all the even numbers is {n1}\")"
   ]
  },
  {
   "cell_type": "markdown",
   "id": "12792ea5",
   "metadata": {},
   "source": [
    "### 26. Print Patterns: Write a Python program using nested for loops to print various patterns, such as a right-angled triangle, an inverted right-angled triangle, and so on."
   ]
  },
  {
   "cell_type": "code",
   "execution_count": 26,
   "id": "87e37383",
   "metadata": {},
   "outputs": [
    {
     "name": "stdin",
     "output_type": "stream",
     "text": [
      "Enter a number:  34\n"
     ]
    },
    {
     "name": "stdout",
     "output_type": "stream",
     "text": [
      "* \n",
      "* * \n",
      "* * * \n",
      "* * * * \n",
      "* * * * * \n",
      "* * * * * * \n",
      "* * * * * * * \n",
      "* * * * * * * * \n",
      "* * * * * * * * * \n",
      "* * * * * * * * * * \n",
      "* * * * * * * * * * * \n",
      "* * * * * * * * * * * * \n",
      "* * * * * * * * * * * * * \n",
      "* * * * * * * * * * * * * * \n",
      "* * * * * * * * * * * * * * * \n",
      "* * * * * * * * * * * * * * * * \n",
      "* * * * * * * * * * * * * * * * * \n",
      "* * * * * * * * * * * * * * * * * * \n",
      "* * * * * * * * * * * * * * * * * * * \n",
      "* * * * * * * * * * * * * * * * * * * * \n",
      "* * * * * * * * * * * * * * * * * * * * * \n",
      "* * * * * * * * * * * * * * * * * * * * * * \n",
      "* * * * * * * * * * * * * * * * * * * * * * * \n",
      "* * * * * * * * * * * * * * * * * * * * * * * * \n",
      "* * * * * * * * * * * * * * * * * * * * * * * * * \n",
      "* * * * * * * * * * * * * * * * * * * * * * * * * * \n",
      "* * * * * * * * * * * * * * * * * * * * * * * * * * * \n",
      "* * * * * * * * * * * * * * * * * * * * * * * * * * * * \n",
      "* * * * * * * * * * * * * * * * * * * * * * * * * * * * * \n",
      "* * * * * * * * * * * * * * * * * * * * * * * * * * * * * * \n",
      "* * * * * * * * * * * * * * * * * * * * * * * * * * * * * * * \n",
      "* * * * * * * * * * * * * * * * * * * * * * * * * * * * * * * * \n",
      "* * * * * * * * * * * * * * * * * * * * * * * * * * * * * * * * * \n",
      "* * * * * * * * * * * * * * * * * * * * * * * * * * * * * * * * * * \n"
     ]
    }
   ],
   "source": [
    "def print_right_triangle_pattern(rows):\n",
    "    for i in range(1, rows + 1):\n",
    "        for j in range(1, i + 1):\n",
    "            print(\"*\", end=\" \")\n",
    "        print()\n",
    "\n",
    "# Example usage:\n",
    "print_right_triangle_pattern(int(input('Enter a number: ')))\n"
   ]
  },
  {
   "cell_type": "markdown",
   "id": "d24b8e54",
   "metadata": {},
   "source": [
    "### 27 Prime Number Checker: Write a Python program using a while loop to check if a given number N is prime or not."
   ]
  },
  {
   "cell_type": "code",
   "execution_count": 27,
   "id": "b970d915",
   "metadata": {},
   "outputs": [
    {
     "name": "stdin",
     "output_type": "stream",
     "text": [
      "Enter a number:  23\n"
     ]
    },
    {
     "name": "stdout",
     "output_type": "stream",
     "text": [
      "23 is a prime number.\n"
     ]
    }
   ],
   "source": [
    "def is_prime(num):\n",
    "    if num <= 1:\n",
    "        return False\n",
    "    elif num== 2:\n",
    "        return True\n",
    "    elif num % 2 == 0:\n",
    "        return False\n",
    "    divisor = 3\n",
    "    while divisor * divisor <= num:\n",
    "        if num% divisor == 0:\n",
    "            return False\n",
    "        divisor += 2\n",
    "    return True\n",
    "user_input = int(input(\"Enter a number: \"))\n",
    "\n",
    "if is_prime(user_input):\n",
    "    print(f\"{user_input} is a prime number.\")\n",
    "else:\n",
    "    print(f\"{user_input} is not a prime number.\")\n"
   ]
  },
  {
   "cell_type": "markdown",
   "id": "c443d1bd",
   "metadata": {},
   "source": [
    "### 28. List Manipulation: Given a list of integers, write a Python program using a for loop to find the sum, average, maximum, and minimum values in the list."
   ]
  },
  {
   "cell_type": "code",
   "execution_count": 28,
   "id": "4bf157bb",
   "metadata": {},
   "outputs": [
    {
     "name": "stdout",
     "output_type": "stream",
     "text": [
      "Sum: 50\n",
      "Average: 8.33\n",
      "Maximum: 15\n",
      "Minimum: 3\n"
     ]
    }
   ],
   "source": [
    "def list_statistics(numbers):\n",
    "    if not numbers:\n",
    "        print(\"The list is empty.\")\n",
    "        return\n",
    "    total = 0\n",
    "    count = 0\n",
    "    maximum = float('-inf')  \n",
    "    minimum = float('inf')  \n",
    "    for num in numbers:\n",
    "        total += num\n",
    "        count += 1\n",
    "        if num > maximum:\n",
    "            maximum = num\n",
    "        if num < minimum:\n",
    "            minimum = num\n",
    "\n",
    "    average = total / count\n",
    "    print(f\"Sum: {total}\")\n",
    "    print(f\"Average: {average:.2f}\")\n",
    "    print(f\"Maximum: {maximum}\")\n",
    "    print(f\"Minimum: {minimum}\")\n",
    "\n",
    "my_numbers = [5, 12, 3, 8, 15, 7]\n",
    "list_statistics(my_numbers)\n",
    "\n"
   ]
  },
  {
   "cell_type": "markdown",
   "id": "36d8a687",
   "metadata": {},
   "source": [
    "### 28. List Manipulation: Given a list of integers, write a Python program using a for loop to find the sum, average, maximum, and minimum values in the list."
   ]
  },
  {
   "cell_type": "code",
   "execution_count": 29,
   "id": "7384cee0",
   "metadata": {},
   "outputs": [
    {
     "name": "stdin",
     "output_type": "stream",
     "text": [
      "Enter a number:  23\n"
     ]
    },
    {
     "name": "stdout",
     "output_type": "stream",
     "text": [
      "Reversed String: 32\n"
     ]
    }
   ],
   "source": [
    "def reverse_string(input_str):\n",
    "    reversed= \"\"\n",
    "    index = len(input_str) - 1\n",
    "    \n",
    "    while index >= 0:\n",
    "        reversed+= input_str[index]\n",
    "        index -= 1\n",
    "\n",
    "    return reversed\n",
    "\n",
    "original_string = input(\"Enter a number: \")\n",
    "reversed_result = reverse_string(original_string)\n",
    "\n",
    "print(f\"Reversed String: {reversed_result}\")"
   ]
  },
  {
   "cell_type": "markdown",
   "id": "a768487c",
   "metadata": {},
   "source": [
    "###  30. Multiplication Table: Write a Python program using nested loops to print the multiplication table from 1 to 10."
   ]
  },
  {
   "cell_type": "code",
   "execution_count": 30,
   "id": "e7b6aa9f",
   "metadata": {},
   "outputs": [
    {
     "name": "stdout",
     "output_type": "stream",
     "text": [
      "1 x 1 = 1\n",
      "1 x 2 = 2\n",
      "1 x 3 = 3\n",
      "1 x 4 = 4\n",
      "1 x 5 = 5\n",
      "1 x 6 = 6\n",
      "1 x 7 = 7\n",
      "1 x 8 = 8\n",
      "1 x 9 = 9\n",
      "1 x 10 = 10\n",
      "2 x 1 = 2\n",
      "2 x 2 = 4\n",
      "2 x 3 = 6\n",
      "2 x 4 = 8\n",
      "2 x 5 = 10\n",
      "2 x 6 = 12\n",
      "2 x 7 = 14\n",
      "2 x 8 = 16\n",
      "2 x 9 = 18\n",
      "2 x 10 = 20\n",
      "3 x 1 = 3\n",
      "3 x 2 = 6\n",
      "3 x 3 = 9\n",
      "3 x 4 = 12\n",
      "3 x 5 = 15\n",
      "3 x 6 = 18\n",
      "3 x 7 = 21\n",
      "3 x 8 = 24\n",
      "3 x 9 = 27\n",
      "3 x 10 = 30\n",
      "4 x 1 = 4\n",
      "4 x 2 = 8\n",
      "4 x 3 = 12\n",
      "4 x 4 = 16\n",
      "4 x 5 = 20\n",
      "4 x 6 = 24\n",
      "4 x 7 = 28\n",
      "4 x 8 = 32\n",
      "4 x 9 = 36\n",
      "4 x 10 = 40\n",
      "5 x 1 = 5\n",
      "5 x 2 = 10\n",
      "5 x 3 = 15\n",
      "5 x 4 = 20\n",
      "5 x 5 = 25\n",
      "5 x 6 = 30\n",
      "5 x 7 = 35\n",
      "5 x 8 = 40\n",
      "5 x 9 = 45\n",
      "5 x 10 = 50\n",
      "6 x 1 = 6\n",
      "6 x 2 = 12\n",
      "6 x 3 = 18\n",
      "6 x 4 = 24\n",
      "6 x 5 = 30\n",
      "6 x 6 = 36\n",
      "6 x 7 = 42\n",
      "6 x 8 = 48\n",
      "6 x 9 = 54\n",
      "6 x 10 = 60\n",
      "7 x 1 = 7\n",
      "7 x 2 = 14\n",
      "7 x 3 = 21\n",
      "7 x 4 = 28\n",
      "7 x 5 = 35\n",
      "7 x 6 = 42\n",
      "7 x 7 = 49\n",
      "7 x 8 = 56\n",
      "7 x 9 = 63\n",
      "7 x 10 = 70\n",
      "8 x 1 = 8\n",
      "8 x 2 = 16\n",
      "8 x 3 = 24\n",
      "8 x 4 = 32\n",
      "8 x 5 = 40\n",
      "8 x 6 = 48\n",
      "8 x 7 = 56\n",
      "8 x 8 = 64\n",
      "8 x 9 = 72\n",
      "8 x 10 = 80\n",
      "9 x 1 = 9\n",
      "9 x 2 = 18\n",
      "9 x 3 = 27\n",
      "9 x 4 = 36\n",
      "9 x 5 = 45\n",
      "9 x 6 = 54\n",
      "9 x 7 = 63\n",
      "9 x 8 = 72\n",
      "9 x 9 = 81\n",
      "9 x 10 = 90\n",
      "10 x 1 = 10\n",
      "10 x 2 = 20\n",
      "10 x 3 = 30\n",
      "10 x 4 = 40\n",
      "10 x 5 = 50\n",
      "10 x 6 = 60\n",
      "10 x 7 = 70\n",
      "10 x 8 = 80\n",
      "10 x 9 = 90\n",
      "10 x 10 = 100\n"
     ]
    }
   ],
   "source": [
    "for i in range(1, 11):\n",
    "    for j in range(1, 11):\n",
    "        result = i * j\n",
    "        print(f\"{i} x {j} = {result}\")\n"
   ]
  },
  {
   "cell_type": "markdown",
   "id": "10edefc6",
   "metadata": {},
   "source": [
    "### 31. Print Patterns: Write a Python program using nested loops to print the following pattern:\n",
    "\n",
    "*\n",
    "\n",
    "**\n"
   ]
  },
  {
   "cell_type": "code",
   "execution_count": 31,
   "id": "66fafb6f",
   "metadata": {},
   "outputs": [
    {
     "name": "stdout",
     "output_type": "stream",
     "text": [
      "* \n",
      "* * \n",
      "* * * \n",
      "* * * * \n",
      "* * * * * \n",
      "* * * * * * \n",
      "* * * * * * * \n"
     ]
    }
   ],
   "source": [
    "for i in range(1, 8):\n",
    "    for j in range(i): \n",
    "        print(\"*\",end=\" \")\n",
    "    \n",
    "    print();\n"
   ]
  },
  {
   "cell_type": "markdown",
   "id": "8b00a130",
   "metadata": {},
   "source": [
    "### 32. Matrix Multiplication: Write a Python program using nested loops to multiply two matrices.\n"
   ]
  },
  {
   "cell_type": "code",
   "execution_count": 32,
   "id": "d114abce",
   "metadata": {},
   "outputs": [
    {
     "name": "stdout",
     "output_type": "stream",
     "text": [
      "Matrix 1:\n",
      "[2, 3, 4]\n",
      "[5, 6, 7]\n",
      "\n",
      "Matrix 2:\n",
      "[8, 9]\n",
      "[10, 11]\n",
      "[12, 13]\n",
      "\n",
      "Result Matrix:\n",
      "[94, 103]\n",
      "[184, 202]\n"
     ]
    }
   ],
   "source": [
    "def matrix_multiply(mat1, mat2):\n",
    "\n",
    "    rows_mat1 = len(mat1)\n",
    "    cols_mat1 = len(mat1[0])\n",
    "    rows_mat2 = len(mat2)\n",
    "    cols_mat2 = len(mat2[0])\n",
    "\n",
    "    if cols_mat1 != rows_mat2:\n",
    "        print(\"Matrice cannot be multiplied\")\n",
    "        return None\n",
    "\n",
    "    result = [[0 for _ in range(cols_mat2)] for _ in range(rows_mat1)]\n",
    "\n",
    "    for i in range(rows_mat1):\n",
    "        for j in range(cols_mat2):\n",
    "            for k in range(cols_mat1):\n",
    "                result[i][j] += mat1[i][k] * mat2[k][j]\n",
    "\n",
    "    return result\n",
    "\n",
    "matrix1 = [\n",
    "    [2, 3, 4],\n",
    "    [5, 6, 7],\n",
    "]\n",
    "\n",
    "matrix2 = [\n",
    "    [8, 9],\n",
    "    [10, 11],\n",
    "    [12, 13],\n",
    "]\n",
    "\n",
    "result_matrix = matrix_multiply(matrix1, matrix2)\n",
    "\n",
    "if result_matrix:\n",
    "    print(\"Matrix 1:\")\n",
    "    for row in matrix1:\n",
    "        print(row)\n",
    "\n",
    "    print(\"\\nMatrix 2:\")\n",
    "    for row in matrix2:\n",
    "        print(row)\n",
    "\n",
    "    print(\"\\nResult Matrix:\")\n",
    "    for row in result_matrix:\n",
    "        print(row)"
   ]
  },
  {
   "cell_type": "markdown",
   "id": "b3800748",
   "metadata": {},
   "source": [
    "### 33. Chessboard Pattern: Write a Python program using nested loops to print a chessboard pattern (alternating “X” and “O” characters) of size 8×8.34. Number Pyramid: Write a Python program using nested loops to print a number pyramid like the following: 1 22 333 4444 55555\n",
    "\n",
    " "
   ]
  },
  {
   "cell_type": "code",
   "execution_count": 33,
   "id": "5da6c537",
   "metadata": {},
   "outputs": [
    {
     "name": "stdout",
     "output_type": "stream",
     "text": [
      "X O X O X O X O X \n",
      "O X O X O X O X X \n",
      "X O X O X O X O X \n",
      "O X O X O X O X X \n",
      "X O X O X O X O X \n",
      "O X O X O X O X X \n",
      "X O X O X O X O X \n",
      "O X O X O X O X X \n"
     ]
    }
   ],
   "source": [
    "row = 8\n",
    "column = 8.34\n",
    "\n",
    "for i in range(row):\n",
    "    for j in range(int(column)):\n",
    "        # Alternate between 'X' and 'O'\n",
    "        if (i + j) % 2 == 0:\n",
    "            print('X', end=' ')\n",
    "        else:\n",
    "            print('O', end=' ')\n",
    "    if column > int(column):\n",
    "        print('X', end=' ')\n",
    "\n",
    "    print()\n",
    "\n"
   ]
  },
  {
   "cell_type": "markdown",
   "id": "9ea9fe3f",
   "metadata": {},
   "source": [
    "### Number Pyramid: Write a Python program using nested loops to print a number pyramid like the following: 1 22 333 4444 55555"
   ]
  },
  {
   "cell_type": "code",
   "execution_count": 34,
   "id": "525d2caa",
   "metadata": {},
   "outputs": [
    {
     "name": "stdout",
     "output_type": "stream",
     "text": [
      "1\n",
      "22\n",
      "333\n",
      "4444\n",
      "55555\n"
     ]
    }
   ],
   "source": [
    "row = 5\n",
    "\n",
    "\n",
    "for i in range(1, row + 1):\n",
    "    for j in range(i):\n",
    "        print(i, end='')\n",
    "    print()  # Move to the next row"
   ]
  },
  {
   "cell_type": "markdown",
   "id": "68f82e37",
   "metadata": {},
   "source": [
    "### 34.List Sum: Write a Python program to find the sum of all elements in a given list of integers."
   ]
  },
  {
   "cell_type": "code",
   "execution_count": 35,
   "id": "2be42d06",
   "metadata": {},
   "outputs": [
    {
     "name": "stdin",
     "output_type": "stream",
     "text": [
      "Enter a list of integers separated by spaces:  34 27 891 89\n"
     ]
    },
    {
     "name": "stdout",
     "output_type": "stream",
     "text": [
      "The sum of elements in the list is: 1041\n"
     ]
    }
   ],
   "source": [
    "def sum_of_element(lst):\n",
    "    total_sum = sum(lst)\n",
    "    return total_sum\n",
    "\n",
    "number = input(\"Enter a list of integers separated by spaces: \")\n",
    "numbers = [int(x) for x in number.split()]\n",
    "result = sum_of_element(numbers)\n",
    "\n",
    "print(f\"The sum of elements in the list is: {result}\")\n",
    "\n"
   ]
  },
  {
   "cell_type": "markdown",
   "id": "0886337f",
   "metadata": {},
   "source": [
    "### 35. List Average: Write a Python program to calculate the average of all elements in a given list of integers."
   ]
  },
  {
   "cell_type": "code",
   "execution_count": 36,
   "id": "ca9c6dd1",
   "metadata": {},
   "outputs": [
    {
     "name": "stdin",
     "output_type": "stream",
     "text": [
      "Enter a list of integers separated by spaces:  324 3\n"
     ]
    },
    {
     "name": "stdout",
     "output_type": "stream",
     "text": [
      "The average of elements in the list is: 163.5\n"
     ]
    }
   ],
   "source": [
    "def averages(lst):\n",
    "    if not lst:\n",
    "        return \"List is empty. Cannot calculate average.\"\n",
    "\n",
    "    total_sum = sum(lst)\n",
    "    average = total_sum / len(lst)\n",
    "    return average\n",
    "input_numbers = input(\"Enter a list of integers separated by spaces: \")\n",
    "numbers = [int(x) for x in input_numbers.split()]\n",
    "\n",
    "result = averages(numbers)\n",
    "\n",
    "print(f\"The average of elements in the list is: {result}\")\n"
   ]
  },
  {
   "cell_type": "markdown",
   "id": "f50983c9",
   "metadata": {},
   "source": [
    "### 36. List Max and Min: Write a Python program to find the maximum and minimum values in a given list of integers."
   ]
  },
  {
   "cell_type": "code",
   "execution_count": 38,
   "id": "c5440778",
   "metadata": {},
   "outputs": [
    {
     "name": "stdin",
     "output_type": "stream",
     "text": [
      "Enter a list of integers separated by space:  3 832 81 93\n"
     ]
    },
    {
     "name": "stdout",
     "output_type": "stream",
     "text": [
      "The maximum value in the list is: 832\n",
      "The minimum value in the list is: 3\n"
     ]
    }
   ],
   "source": [
    "def max_min(lst):\n",
    "    if not lst:\n",
    "        return \"List is empty. Cannot find max and min.\"\n",
    "\n",
    "    maximum = max(lst)\n",
    "    minimum = min(lst)\n",
    "    return maximum, minimum\n",
    "\n",
    "input_num = input(\"Enter a list of integers separated by space: \")\n",
    "numbers = [int(x) for x in input_num.split()]\n",
    "\n",
    "max_value, min_value = max_min(numbers)\n",
    "\n",
    "print(f\"The maximum value in the list is: {max_value}\")\n",
    "print(f\"The minimum value in the list is: {min_value}\")\n"
   ]
  },
  {
   "cell_type": "markdown",
   "id": "87496014",
   "metadata": {},
   "source": [
    "### 37. List Sorting: Write a Python program to sort a list of integers in ascending order."
   ]
  },
  {
   "cell_type": "code",
   "execution_count": 39,
   "id": "cdca7bd8",
   "metadata": {},
   "outputs": [
    {
     "name": "stdout",
     "output_type": "stream",
     "text": [
      "The sorted list in ascending order is: [11, 12, 14, 15, 16, 18, 20, 22, 26, 28]\n"
     ]
    }
   ],
   "source": [
    "numbers = [11, 14, 22, 26, 28, 12, 15, 16, 18, 20]\n",
    "numbers.sort()\n",
    "print(f\"The sorted list in ascending order is: {numbers}\")\n",
    "\n"
   ]
  },
  {
   "cell_type": "markdown",
   "id": "12ba3ff5",
   "metadata": {},
   "source": [
    "### 38.List Filtering: Given a list of integers, write a Python program to create a new list that contains only the even numbers from the original list."
   ]
  },
  {
   "cell_type": "code",
   "execution_count": 40,
   "id": "e7a1db04",
   "metadata": {},
   "outputs": [
    {
     "name": "stdout",
     "output_type": "stream",
     "text": [
      "The list of even numbers is: [22, 44, 66, 88]\n"
     ]
    }
   ],
   "source": [
    "original_numbers = [11, 22, 33, 44, 55, 66, 77, 88, 97]\n",
    "\n",
    "even_numbers = [num for num in original_numbers if num % 2 == 0]\n",
    "\n",
    "print(f\"The list of even numbers is: {even_numbers}\")\n",
    "\n"
   ]
  },
  {
   "cell_type": "markdown",
   "id": "86f554a6",
   "metadata": {},
   "source": [
    "### 39. List Reversal: Write a Python program to reverse a given list without using any built-in functions."
   ]
  },
  {
   "cell_type": "code",
   "execution_count": 41,
   "id": "3030800d",
   "metadata": {},
   "outputs": [
    {
     "name": "stdout",
     "output_type": "stream",
     "text": [
      "The reversed list is: [35, 44, 73, 82, 51]\n"
     ]
    }
   ],
   "source": [
    "def reverse(lst):\n",
    "    length = len(lst)\n",
    "\n",
    "    # Swap elements from the beginning to the end\n",
    "    for i in range(length // 2):\n",
    "        temp = lst[i]\n",
    "        lst[i] = lst[length - 1 - i]\n",
    "        lst[length - 1 - i] = temp\n",
    "\n",
    "# Example usage\n",
    "original_list = [51, 82, 73, 44, 35]\n",
    "reverse(original_list)\n",
    "\n",
    "print(f\"The reversed list is: {original_list}\")\n",
    "\n"
   ]
  },
  {
   "cell_type": "markdown",
   "id": "1a311063",
   "metadata": {},
   "source": [
    "### 40. List Manipulation: Given two lists of integers, write a Python program to create a new list that contains elements common to both lists."
   ]
  },
  {
   "cell_type": "code",
   "execution_count": 42,
   "id": "cd5c613b",
   "metadata": {},
   "outputs": [
    {
     "name": "stdout",
     "output_type": "stream",
     "text": [
      "The list of common elements is: [4, 37]\n"
     ]
    }
   ],
   "source": [
    "list1 = [1, 2, 32, 4, 5, 37]\n",
    "list2 = [37, 4, 55, 6, 7]\n",
    "\n",
    "common_elements = [num for num in list1 if num in list2]\n",
    "\n",
    "print(f\"The list of common elements is: {common_elements}\")\n"
   ]
  },
  {
   "cell_type": "markdown",
   "id": "e2311e7f",
   "metadata": {},
   "source": [
    "### 41. List Element Count: Write a Python program to count the occurrences of a specific element in a given list."
   ]
  },
  {
   "cell_type": "code",
   "execution_count": 43,
   "id": "338fbcdd",
   "metadata": {},
   "outputs": [
    {
     "name": "stdout",
     "output_type": "stream",
     "text": [
      "The element 3 occurs 3 times in the list.\n"
     ]
    }
   ],
   "source": [
    "numbers = [1, 3, 3, 4, 2, 3, 2, 4, 7, 2]\n",
    "element_to_count = 3\n",
    "occurrences = numbers.count(element_to_count)\n",
    "\n",
    "print(f\"The element {element_to_count} occurs {occurrences} times in the list.\")\n"
   ]
  },
  {
   "cell_type": "markdown",
   "id": "8170625b",
   "metadata": {},
   "source": [
    "### 42. List Duplicates Removal: Write a Python program to remove duplicates from a given list while preserving the order of the elements."
   ]
  },
  {
   "cell_type": "code",
   "execution_count": 44,
   "id": "a6e38f44",
   "metadata": {},
   "outputs": [
    {
     "name": "stdout",
     "output_type": "stream",
     "text": [
      "The list with duplicates removed is: [1, 2, 3, 4, 5, 6, 7, 9, 10]\n"
     ]
    }
   ],
   "source": [
    "original_list = [1, 2, 3, 2, 4, 5, 1, 6, 7, 7, 9, 6,10, 5,1, 5, 3, 1, 6, 9]\n",
    "unique_list = []\n",
    "for element in original_list:\n",
    "    if element not in unique_list:\n",
    "        unique_list.append(element)\n",
    "\n",
    "print(f\"The list with duplicates removed is: {unique_list}\")\n"
   ]
  },
  {
   "cell_type": "markdown",
   "id": "0a0a4cf2",
   "metadata": {},
   "source": [
    "### 43. List Comprehension: Given a list of integers, write a Python program to create a new list that contains the squares of the elements using list comprehension."
   ]
  },
  {
   "cell_type": "code",
   "execution_count": 45,
   "id": "0f4ae201",
   "metadata": {},
   "outputs": [
    {
     "name": "stdout",
     "output_type": "stream",
     "text": [
      "The list of squares is: [1, 8, 27, 64, 125]\n"
     ]
    }
   ],
   "source": [
    "numbers = [1, 2, 3, 4, 5]\n",
    "squares = [num ** 3 for num in numbers]\n",
    "\n",
    "print(f\"The list of squares is: {squares}\")"
   ]
  },
  {
   "cell_type": "markdown",
   "id": "5af9dccd",
   "metadata": {},
   "source": [
    "### 44. Matrix Addition: Write a Python program to add two matrices represented as nested lists."
   ]
  },
  {
   "cell_type": "code",
   "execution_count": 46,
   "id": "3f279508",
   "metadata": {},
   "outputs": [
    {
     "name": "stdout",
     "output_type": "stream",
     "text": [
      "Matrix 1:\n",
      "[1, 4, 4]\n",
      "[3, 6, 8]\n",
      "[22, 2, 12]\n",
      "\n",
      "Matrix 2:\n",
      "[9, 8, 7]\n",
      "[6, 5, 4]\n",
      "[3, 2, 1]\n",
      "\n",
      "Sum of Matrices:\n",
      "[10, 12, 11]\n",
      "[9, 11, 12]\n",
      "[25, 4, 13]\n"
     ]
    }
   ],
   "source": [
    "def add_matrices(matric1, matric2):\n",
    "    if len(matric1) != len(matric2) or len(matric1[0]) != len(matric2[0]):\n",
    "        raise ValueError(\"Matrices must have the same dimensions for addition.\")\n",
    "\n",
    "    result_matrix = []\n",
    "\n",
    "    for i in range(len(matric1)):\n",
    "        row = []\n",
    "        for j in range(len(matric1[0])):\n",
    "            row.append(matric1[i][j] + matric2[i][j])\n",
    "        result_matrix.append(row)\n",
    "\n",
    "    return result_matrix\n",
    "\n",
    "# Example matrices\n",
    "matric1 = [[1, 4, 4], [3, 6, 8], [22, 2, 12]]\n",
    "matric2 = [[9, 8, 7], [6, 5, 4], [3, 2, 1]]\n",
    "\n",
    "# Add matrices using the add_matrices function\n",
    "result = add_matrices(matric1, matric2)\n",
    "\n",
    "# Display the result\n",
    "print(\"Matrix 1:\")\n",
    "for row in matric1:\n",
    "    print(row)\n",
    "\n",
    "print(\"\\nMatrix 2:\")\n",
    "for row in matric2:\n",
    "    print(row)\n",
    "\n",
    "print(\"\\nSum of Matrices:\")\n",
    "for row in result:\n",
    "    print(row)\n"
   ]
  },
  {
   "cell_type": "markdown",
   "id": "b411f7b8",
   "metadata": {},
   "source": [
    "### 45. Flatten Nested List: Write a Python program to flatten a given nested list and convert it into a single-dimensional list."
   ]
  },
  {
   "cell_type": "code",
   "execution_count": 47,
   "id": "5990b97b",
   "metadata": {},
   "outputs": [
    {
     "name": "stdout",
     "output_type": "stream",
     "text": [
      "[1, 2, 3, 3, 5, 6, 45, 8]\n"
     ]
    }
   ],
   "source": [
    "def flatten_list(nested_list):\n",
    "    flattened_list = []\n",
    "    for element in nested_list:\n",
    "        if isinstance(element, list):\n",
    "            flattened_list.extend(flatten_list(element))\n",
    "        else:\n",
    "            flattened_list.append(element)\n",
    "    return flattened_list\n",
    "nested = [1, [2, [3,3], 5], 6, [45, 8]]\n",
    "result = flatten_list(nested)\n",
    "print(result)\n"
   ]
  },
  {
   "cell_type": "markdown",
   "id": "c4644deb",
   "metadata": {},
   "source": [
    "### 46. List Element Frequency: Given a nested list containing lists of integers, write a Python program to count the frequency of each element in the entire nested list."
   ]
  },
  {
   "cell_type": "code",
   "execution_count": 49,
   "id": "931d26d1",
   "metadata": {},
   "outputs": [
    {
     "name": "stdout",
     "output_type": "stream",
     "text": [
      "{1: 2, 2: 2, 3: 2, 4: 1, 5: 1, 6: 1, 7: 1, 8: 1}\n"
     ]
    }
   ],
   "source": [
    "def count_frequency(nested):\n",
    "    frequency_dict = {}\n",
    "\n",
    "    def count_element(element):\n",
    "        if isinstance(element, list):\n",
    "            for sub_element in element:\n",
    "                count_element(sub_element)\n",
    "        else:\n",
    "            frequency_dict[element] = frequency_dict.get(element, 0) + 1\n",
    "\n",
    "    count_element(nested)\n",
    "    return frequency_dict\n",
    "\n",
    "nested = [1, [2, [3, 4], 5], 6, [7, 8, 1, [2, 3]]]\n",
    "result = count_frequency(nested)\n",
    "print(result)\n"
   ]
  },
  {
   "cell_type": "markdown",
   "id": "8fbf39ed",
   "metadata": {},
   "source": [
    "### 47. Transpose Matrix: Write a Python program to transpose a given matrix represented as a nested list."
   ]
  },
  {
   "cell_type": "code",
   "execution_count": 50,
   "id": "3deb6fae",
   "metadata": {},
   "outputs": [
    {
     "name": "stdout",
     "output_type": "stream",
     "text": [
      "[1, 4, 7]\n",
      "[2, 5, 8]\n",
      "[3, 6, 9]\n"
     ]
    }
   ],
   "source": [
    "def transpose_matrix(matrix):\n",
    "    transposed_matrix = list(map(list, zip(*matrix)))\n",
    "    return transposed_matrix\n",
    "matric = [\n",
    "    [1, 2, 3],\n",
    "    [4, 5, 6],\n",
    "    [7, 8, 9]\n",
    "]\n",
    "result = transpose_matrix(matric)\n",
    "for row in result:\n",
    "    print(row)\n"
   ]
  },
  {
   "cell_type": "markdown",
   "id": "8da60625",
   "metadata": {},
   "source": [
    "### 48. List of Lists Concatenation: Given a list of nested lists, write a Python program to concatenate all the sublists into a single flat list."
   ]
  },
  {
   "cell_type": "code",
   "execution_count": 51,
   "id": "9f063842",
   "metadata": {},
   "outputs": [
    {
     "name": "stdout",
     "output_type": "stream",
     "text": [
      "[1, 2, 3, 4, 5, 6, 7, 8]\n"
     ]
    }
   ],
   "source": [
    "def nested_lists(nested_list):\n",
    "    flat_list = [element for sublist in nested_list for element in sublist]\n",
    "    return flat_list\n",
    "\n",
    "# Example usage:\n",
    "nested_list = [[1, 2, 3], {4, 5}, [6, 7, 8]]\n",
    "result = nested_lists(nested_list)\n",
    "print(result)\n"
   ]
  },
  {
   "cell_type": "markdown",
   "id": "088d9913",
   "metadata": {},
   "source": [
    "### 49. Tuple Concatenation: Write a Python program to concatenate two tuples and create a new tuple."
   ]
  },
  {
   "cell_type": "code",
   "execution_count": 52,
   "id": "ae941fd3",
   "metadata": {},
   "outputs": [
    {
     "name": "stdout",
     "output_type": "stream",
     "text": [
      "(1, 2, 3, 4, 5, 6)\n"
     ]
    }
   ],
   "source": [
    "def tuples(tuple1, tuple2):\n",
    "    concatenated_tuple = tuple1 + tuple2\n",
    "    return concatenated_tuple\n",
    "tuple1 = (1, 2, 3)\n",
    "tuple2 = (4, 5, 6)\n",
    "result = tuples(tuple1, tuple2)\n",
    "print(result)\n",
    "\n"
   ]
  },
  {
   "cell_type": "markdown",
   "id": "950a7468",
   "metadata": {},
   "source": [
    "### 50. Tuple Unpacking: Given a tuple with three elements (x, y, z), write a Python program to unpack the tuple and assign the values to three variables."
   ]
  },
  {
   "cell_type": "code",
   "execution_count": 53,
   "id": "31412d21",
   "metadata": {},
   "outputs": [
    {
     "name": "stdout",
     "output_type": "stream",
     "text": [
      "x: 0\n",
      "y: 22\n",
      "z: 35\n"
     ]
    }
   ],
   "source": [
    "# Given tuple\n",
    "tuple = (0, 22, 35)\n",
    "\n",
    "x, y, z = tuple\n",
    "\n",
    "print(\"x:\", x)\n",
    "print(\"y:\", y)\n",
    "print(\"z:\", z)\n"
   ]
  },
  {
   "cell_type": "markdown",
   "id": "5be5b012",
   "metadata": {},
   "source": [
    "### 51. Tuple Sorting: Write a Python program to sort a tuple of integers in ascending order."
   ]
  },
  {
   "cell_type": "code",
   "execution_count": 62,
   "id": "22f91022",
   "metadata": {},
   "outputs": [
    {
     "name": "stdout",
     "output_type": "stream",
     "text": [
      "Sorted Tuple: [1, 1, 2, 3, 4]\n"
     ]
    }
   ],
   "source": [
    "# Given tuple of integers\n",
    "my_tuple = (3, 1, 4, 2, 1)\n",
    "# Sort the tuple in ascending order and convert the result to a new tuple\n",
    "sorted_tuple = sorted(my_tuple)\n",
    "# Display the sorted tuple\n",
    "print(\"Sorted Tuple:\", sorted_tuple)\n",
    "\n"
   ]
  },
  {
   "cell_type": "markdown",
   "id": "90c73609",
   "metadata": {},
   "source": [
    "### 52. Tuple Frequency Count: Given a tuple containing various elements, write a Python program to count the frequency of a specific element in the tuple."
   ]
  },
  {
   "cell_type": "code",
   "execution_count": 63,
   "id": "ee147bd1",
   "metadata": {},
   "outputs": [
    {
     "name": "stdout",
     "output_type": "stream",
     "text": [
      "The frequency of 21 in the tuple is: 2\n"
     ]
    }
   ],
   "source": [
    "def count_element(my_tuple, element):\n",
    "    frequency = my_tuple.count(element)\n",
    "    return frequency\n",
    "\n",
    "my_tuple = (11, 22, 32, 21, 44, 21, 55)\n",
    "element_to_count = 21\n",
    "\n",
    "result = count_element(my_tuple, element_to_count)\n",
    "print(f\"The frequency of {element_to_count} in the tuple is: {result}\")\n"
   ]
  },
  {
   "cell_type": "markdown",
   "id": "5347e119",
   "metadata": {},
   "source": [
    "### 53. Tuple to List: Write a Python program to convert a tuple into a list."
   ]
  },
  {
   "cell_type": "code",
   "execution_count": 64,
   "id": "e37a3a73",
   "metadata": {},
   "outputs": [
    {
     "name": "stdout",
     "output_type": "stream",
     "text": [
      "Converted List: [1, 2, 3, 4, 5, 44, 45, 17]\n"
     ]
    }
   ],
   "source": [
    "my_tuple = (1, 2, 3, 4, 5, 44, 45, 17)\n",
    "\n",
    "my_list = list(my_tuple)\n",
    "\n",
    "print(\"Converted List:\", my_list)\n"
   ]
  },
  {
   "cell_type": "markdown",
   "id": "cd290a93",
   "metadata": {},
   "source": [
    "### 54. Tuple Reversal: Write a Python program to reverse a tuple without using any built-in functions."
   ]
  },
  {
   "cell_type": "code",
   "execution_count": 67,
   "id": "f51911d0",
   "metadata": {},
   "outputs": [
    {
     "name": "stdout",
     "output_type": "stream",
     "text": [
      "Original Tuple: (1, 2, 3, 55, 12, 654, 1, 96, 4, 5)\n",
      "Reversed Tuple: [5, 4, 96, 1, 654, 12, 55, 3, 2, 1]\n"
     ]
    }
   ],
   "source": [
    "def reverse_tuple(input_tuple):\n",
    "    reversed_tuple = [input_tuple[i] for i in range(len(input_tuple) - 1, -1, -1)]\n",
    "    return reversed_tuple\n",
    "\n",
    "# Example usage:\n",
    "my_tuple = (1, 2, 3, 55, 12, 654, 1, 96, 4, 5)\n",
    "reversed_result = reverse_tuple(my_tuple)\n",
    "\n",
    "print(\"Original Tuple:\", my_tuple)\n",
    "print(\"Reversed Tuple:\", reversed_result)\n"
   ]
  },
  {
   "cell_type": "markdown",
   "id": "b7be70f9",
   "metadata": {},
   "source": [
    "### 55. Tuple Slicing: Given a tuple, write a Python program to extract a slice of elements from it."
   ]
  },
  {
   "cell_type": "code",
   "execution_count": 68,
   "id": "4ca49703",
   "metadata": {},
   "outputs": [
    {
     "name": "stdout",
     "output_type": "stream",
     "text": [
      "Original Tuple: (1, 2, 35, 444, 57, 6, 7, 8, 9)\n",
      "Sliced Elements from index 2 to 5: (35, 444, 57, 6)\n"
     ]
    }
   ],
   "source": [
    "my_tuple = (1, 2, 35, 444, 57, 6, 7, 8, 9)\n",
    "\n",
    "start = 2\n",
    "end = 6\n",
    "sliced_elements = my_tuple[start:end]\n",
    "\n",
    "print(\"Original Tuple:\", my_tuple)\n",
    "print(f\"Sliced Elements from index {start} to {end - 1}:\", sliced_elements)\n"
   ]
  },
  {
   "cell_type": "markdown",
   "id": "de5293fb",
   "metadata": {},
   "source": [
    "### 56. Tuple Operations: Given two tuples of integers, write a Python program to perform element-wise addition, subtraction, and multiplication and create new tuples for each operation."
   ]
  },
  {
   "cell_type": "code",
   "execution_count": 78,
   "id": "bfbe2c61",
   "metadata": {},
   "outputs": [
    {
     "name": "stdout",
     "output_type": "stream",
     "text": [
      "Tuple 1: (1, 2, 3, 5, 9, 7)\n",
      "Tuple 2: (4, 5, 6, 9, 8, 3)\n",
      "Element-wise Addition: [5, 7, 9, 14, 17, 10]\n",
      "Element-wise Subtraction: [-3, -3, -3, -4, 1, 4]\n",
      "Element-wise Multiplication: [4, 10, 18, 45, 72, 21]\n"
     ]
    }
   ],
   "source": [
    "def perform_elementwise_operations(tuple1, tuple2):\n",
    "    addition_result = ([x + y for x, y in zip(tuple1, tuple2)])\n",
    "    subtraction_result = ([x - y for x, y in zip(tuple1, tuple2)])\n",
    "    multiplication_result = ([x * y for x, y in zip(tuple1, tuple2)])\n",
    "    return addition_result, subtraction_result, multiplication_result\n",
    "tuple1 = (1, 2, 3, 5, 9, 7)\n",
    "tuple2 = (4, 5, 6, 9, 8, 3)\n",
    "addition, subtraction, multiplication = perform_elementwise_operations(tuple1, tuple2)\n",
    "print(\"Tuple 1:\", tuple1)\n",
    "print(\"Tuple 2:\", tuple2)\n",
    "print(\"Element-wise Addition:\", addition)\n",
    "print(\"Element-wise Subtraction:\", subtraction)\n",
    "print(\"Element-wise Multiplication:\", multiplication)\n"
   ]
  },
  {
   "cell_type": "markdown",
   "id": "f6905319",
   "metadata": {},
   "source": [
    "### 57. Tuple Membership Test: Write a Python program that takes an element as input and checks if it exists in a given tuple."
   ]
  },
  {
   "cell_type": "code",
   "execution_count": 80,
   "id": "f8a0d3f2",
   "metadata": {},
   "outputs": [
    {
     "name": "stdin",
     "output_type": "stream",
     "text": [
      "Enter an element to check:  5\n"
     ]
    },
    {
     "name": "stdout",
     "output_type": "stream",
     "text": [
      "5 exists in the tuple.\n"
     ]
    }
   ],
   "source": [
    "def check_element_existence(input_element, my_tuple):\n",
    "    if input_element in my_tuple:\n",
    "        return True\n",
    "    else:\n",
    "        return False\n",
    "\n",
    "my_tuple = (1, 2, 3, 4, 5)\n",
    "\n",
    "element_to_check = int(input(\"Enter an element to check: \"))\n",
    "\n",
    "result = check_element_existence(element_to_check, my_tuple)\n",
    "\n",
    "if result:\n",
    "    print(f\"{element_to_check} exists in the tuple.\")\n",
    "else:\n",
    "    print(f\"{element_to_check} does not exist in the tuple.\")\n"
   ]
  },
  {
   "cell_type": "markdown",
   "id": "4b2e3871",
   "metadata": {},
   "source": [
    "### 58. Tuple Packing: Write a Python program to pack three variables into a single tuple and print the tuple."
   ]
  },
  {
   "cell_type": "code",
   "execution_count": 81,
   "id": "3f52ac03",
   "metadata": {},
   "outputs": [
    {
     "name": "stdout",
     "output_type": "stream",
     "text": [
      "Packed Tuple: (10, 'Hello', [1, 2, 3])\n"
     ]
    }
   ],
   "source": [
    "# Three variables\n",
    "var1 = 10\n",
    "var2 = 'Hello'\n",
    "var3 = [1, 2, 3]\n",
    "\n",
    "# Pack the variables into a tuple\n",
    "packed= (var1, var2, var3)\n",
    "\n",
    "# Print the tuple\n",
    "print(\"Packed Tuple:\", packed)\n"
   ]
  },
  {
   "cell_type": "markdown",
   "id": "af2cbc0e",
   "metadata": {},
   "source": [
    "### 59. Nested List Element Access: Given a nested list, write a Python program to access and print specific elements from it."
   ]
  },
  {
   "cell_type": "code",
   "execution_count": 82,
   "id": "a26509e0",
   "metadata": {},
   "outputs": [
    {
     "name": "stdout",
     "output_type": "stream",
     "text": [
      "Element at row 0, column 1: 2\n",
      "Element at row 2, column 2: 9\n"
     ]
    }
   ],
   "source": [
    "nested_list = [\n",
    "    [1, 2, 3],\n",
    "    [4, 5, 6],\n",
    "    [7, 8, 9]\n",
    "]\n",
    "\n",
    "element1 = nested_list[0][1]  \n",
    "element2 = nested_list[2][2]  \n",
    "print(\"Element at row 0, column 1:\", element1)\n",
    "print(\"Element at row 2, column 2:\", element2)\n"
   ]
  },
  {
   "cell_type": "markdown",
   "id": "8cd8a3bb",
   "metadata": {},
   "source": [
    "### 60. Nested List Flattening: Write a Python program to flatten a nested list and convert it into a single-dimensional list."
   ]
  },
  {
   "cell_type": "code",
   "execution_count": null,
   "id": "f0946a06",
   "metadata": {},
   "outputs": [],
   "source": []
  },
  {
   "cell_type": "code",
   "execution_count": 83,
   "id": "042673ca",
   "metadata": {},
   "outputs": [
    {
     "name": "stdout",
     "output_type": "stream",
     "text": [
      "[1, 2, 3, 4, 5, 6, 7, 8]\n"
     ]
    }
   ],
   "source": [
    "def flatten_nested(nested_list):\n",
    "    flattened_list = []\n",
    "    for element in nested_list:\n",
    "        if isinstance(element, list):\n",
    "            flattened_list.extend(flatten_nested(element))\n",
    "        else:\n",
    "            flattened_list.append(element)\n",
    "    return flattened_list\n",
    "\n",
    "# Example usage:\n",
    "nested_list = [1, [2, [3, 4], 5], 6, [7, 8]]\n",
    "result = flatten_nested(nested_list)\n",
    "print(result)\n"
   ]
  },
  {
   "cell_type": "markdown",
   "id": "dfab8f94",
   "metadata": {},
   "source": [
    "### 61.Nested List Sorting: Given a nested list containing lists of integers, write a Python program to sort the sublists based on their lengths."
   ]
  },
  {
   "cell_type": "code",
   "execution_count": 84,
   "id": "5f7f7be2",
   "metadata": {},
   "outputs": [
    {
     "name": "stdout",
     "output_type": "stream",
     "text": [
      "Original Nested : [[1, 2, 3], [4, 5], [6, 7, 8, 9], [10, 11, 12]]\n",
      "Sorted Nested List  [[4, 5], [1, 2, 3], [10, 11, 12], [6, 7, 8, 9]]\n"
     ]
    }
   ],
   "source": [
    "def sort_sublists_by_length(nested_list):\n",
    "    sorted_nested_list = sorted(nested_list, key=len)\n",
    "    return sorted_nested_list\n",
    "\n",
    "nested_list = [[1, 2, 3], [4, 5], [6, 7, 8, 9], [10, 11, 12]]\n",
    "sorted_result = sort_sublists_by_length(nested_list)\n",
    "\n",
    "print(\"Original Nested :\", nested_list)\n",
    "print(\"Sorted Nested List \", sorted_result)\n"
   ]
  },
  {
   "cell_type": "markdown",
   "id": "811d5623",
   "metadata": {},
   "source": [
    "### 62. List of Tuples Conversion: Given a nested list containing tuples of (x, y) coordinates, write a Python program to convert it into a list of x-coordinates and a list of y-coordinates."
   ]
  },
  {
   "cell_type": "code",
   "execution_count": 85,
   "id": "5d740a24",
   "metadata": {},
   "outputs": [
    {
     "name": "stdout",
     "output_type": "stream",
     "text": [
      "Original Nested List: [(1, 2), (3, 4), (5, 6)]\n",
      "X Coordinates: [1, 3, 5]\n",
      "Y Coordinates: [2, 4, 6]\n"
     ]
    }
   ],
   "source": [
    "def extract(nested_list):\n",
    "    x_coordinates = [x for x, y in nested_list]\n",
    "    y_coordinates = [y for x, y in nested_list]\n",
    "    return x_coordinates, y_coordinates\n",
    "\n",
    "# Example usage:\n",
    "nested_list = [(1, 2), (3, 4), (5, 6)]\n",
    "x_coords, y_coords = extract(nested_list)\n",
    "\n",
    "print(\"Original Nested List:\", nested_list)\n",
    "print(\"X Coordinates:\", x_coords)\n",
    "print(\"Y Coordinates:\", y_coords)\n"
   ]
  },
  {
   "cell_type": "markdown",
   "id": "a4650f6d",
   "metadata": {},
   "source": [
    "### 63. Matrix Transpose: Write a Python program to transpose a given matrix represented as a nested list."
   ]
  },
  {
   "cell_type": "code",
   "execution_count": 86,
   "id": "282839fd",
   "metadata": {},
   "outputs": [
    {
     "name": "stdout",
     "output_type": "stream",
     "text": [
      "[1, 4, 7]\n",
      "[2, 5, 8]\n",
      "[3, 6, 9]\n"
     ]
    }
   ],
   "source": [
    "def transpose_matrix(matrix):\n",
    "    rows, cols = len(matrix), len(matrix[0])\n",
    "    transposed_matrix = [[matrix[j][i] for j in range(rows)] for i in range(cols)]\n",
    "    return transposed_matrix\n",
    "matrix = [\n",
    "    [1, 2, 3],\n",
    "    [4, 5, 6],\n",
    "    [7, 8, 9]\n",
    "]\n",
    "result = transpose_matrix(matrix)\n",
    "for row in result:\n",
    "    print(row)\n"
   ]
  },
  {
   "cell_type": "markdown",
   "id": "bacb2cf7",
   "metadata": {},
   "source": [
    "### 64. Nested List Concatenation: Given a list of nested lists, write a Python program to concatenate all the sublists into a single flat list."
   ]
  },
  {
   "cell_type": "code",
   "execution_count": 87,
   "id": "c147507d",
   "metadata": {},
   "outputs": [
    {
     "name": "stdout",
     "output_type": "stream",
     "text": [
      "[1, 2, 3, 4, 5, 6, 7, 8]\n"
     ]
    }
   ],
   "source": [
    "def flatten_lists(nested_lists):\n",
    "    flat_list = [element for sublist in nested_lists for element in sublist]\n",
    "    return flat_list\n",
    "nested_lists = [[1, 2, 3], [4, 5], [6, 7, 8]]\n",
    "result = flatten_lists(nested_lists)\n",
    "print(result)\n"
   ]
  },
  {
   "cell_type": "markdown",
   "id": "8bbc0549",
   "metadata": {},
   "source": [
    "### 65. Count Even Numbers: Write a Python program to count the number of even numbers in a nested list."
   ]
  },
  {
   "cell_type": "code",
   "execution_count": 88,
   "id": "f1e8b000",
   "metadata": {},
   "outputs": [
    {
     "name": "stdout",
     "output_type": "stream",
     "text": [
      "Number of even numbers in the nested list: 4\n"
     ]
    }
   ],
   "source": [
    "def count_even_numbers(nested_list):\n",
    "    even_count = 0\n",
    "    for sublist in nested_list:\n",
    "        for number in sublist:\n",
    "            if number % 2 == 0:\n",
    "                even_count += 1\n",
    "    return even_count\n",
    "\n",
    "nested_list = [[1, 2, 3], [4, 5, 6], [7, 8, 9]]\n",
    "result = count_even_numbers(nested_list)\n",
    "print(\"Number of even numbers in the nested list:\", result)\n"
   ]
  },
  {
   "cell_type": "markdown",
   "id": "50006ef7",
   "metadata": {},
   "source": [
    "### 66. Maximum Element in Nested List: Write a Python program to find the maximum element in a nested list of integers."
   ]
  },
  {
   "cell_type": "code",
   "execution_count": 89,
   "id": "f7358467",
   "metadata": {},
   "outputs": [
    {
     "name": "stdout",
     "output_type": "stream",
     "text": [
      "Maximum element in the nested list: 61\n"
     ]
    }
   ],
   "source": [
    "def find_max_element(nested_list):\n",
    "    max_element = float('-inf') \n",
    "    for sublist in nested_list:\n",
    "        for element in sublist:\n",
    "            if element > max_element:\n",
    "                max_element = element\n",
    "    return max_element\n",
    "nested_list = [[1, 2, 3], [4, 9, 61], [7, 8, 5]]\n",
    "result = find_max_element(nested_list)\n",
    "print(\"Maximum element in the nested list:\", result)\n"
   ]
  },
  {
   "cell_type": "markdown",
   "id": "7fe39354",
   "metadata": {},
   "source": [
    "### 67. Diagonal Sum of Matrix: Given a square matrix represented as a nested list, write a Python program to calculate the sum of the elements in the main diagonal."
   ]
  },
  {
   "cell_type": "code",
   "execution_count": 90,
   "id": "adbc11e2",
   "metadata": {},
   "outputs": [
    {
     "name": "stdout",
     "output_type": "stream",
     "text": [
      "Sum of the elements in the main diagonal: 15\n"
     ]
    }
   ],
   "source": [
    "def main_diagonal(matrix):\n",
    "    diagonal_sum = 0\n",
    "    size = len(matrix)\n",
    "\n",
    "    for i in range(size):\n",
    "        diagonal_sum += matrix[i][i]\n",
    "\n",
    "    return diagonal_sum\n",
    "square_matrix = [\n",
    "    [1, 2, 3],\n",
    "    [4, 5, 6],\n",
    "    [7, 87, 9]\n",
    "]\n",
    "\n",
    "result = main_diagonal(square_matrix)\n",
    "print(\"Sum of the elements in the main diagonal:\", result)\n"
   ]
  },
  {
   "cell_type": "markdown",
   "id": "e1fd1231",
   "metadata": {},
   "source": [
    "### 68. Nested List Element Search: Write a Python program to search for a specific element in a nested list and return its position (row and column indices)."
   ]
  },
  {
   "cell_type": "code",
   "execution_count": 91,
   "id": "9bd00590",
   "metadata": {},
   "outputs": [
    {
     "name": "stdout",
     "output_type": "stream",
     "text": [
      "Element 55 found at position (row 1, column 1).\n"
     ]
    }
   ],
   "source": [
    "def find_element_position(matrix, target):\n",
    "    for i, row in enumerate(matrix):\n",
    "        for j, element in enumerate(row):\n",
    "            if element == target:\n",
    "                return i, j  \n",
    "    return None\n",
    "\n",
    "nested_list = [\n",
    "    [11, 2, 3],\n",
    "    [4, 55, 6],\n",
    "    [7, 8, 89]\n",
    "]\n",
    "\n",
    "target_element = 55\n",
    "result = find_element_position(nested_list, target_element)\n",
    "\n",
    "if result:\n",
    "    row, col = result\n",
    "    print(f\"Element {target_element} found at position (row {row}, column {col}).\")\n",
    "else:\n",
    "    print(f\"Element {target_element} not found in the nested list.\")\n"
   ]
  },
  {
   "cell_type": "markdown",
   "id": "c95e67f3",
   "metadata": {},
   "source": [
    "### 69. Duplicate Removal: Write a Python program that takes a list of elements as input and creates a new set containing only the unique elements from the list."
   ]
  },
  {
   "cell_type": "code",
   "execution_count": 92,
   "id": "3ee54f24",
   "metadata": {},
   "outputs": [
    {
     "name": "stdin",
     "output_type": "stream",
     "text": [
      "Enter elements separated by spaces:  5 7 3 87 3\n"
     ]
    },
    {
     "name": "stdout",
     "output_type": "stream",
     "text": [
      "Original List: ['5', '7', '3', '87', '3']\n",
      "Unique Set: {'7', '3', '87', '5'}\n"
     ]
    }
   ],
   "source": [
    "def create_unique_set(input_list):\n",
    "    unique_set = set(input_list)\n",
    "    return unique_set\n",
    "\n",
    "input_list = input(\"Enter elements separated by spaces: \").split()\n",
    "\n",
    "result_set = create_unique_set(input_list)\n",
    "\n",
    "print(\"Original List:\", input_list)\n",
    "print(\"Unique Set:\", result_set)\n"
   ]
  },
  {
   "cell_type": "markdown",
   "id": "09cffe98",
   "metadata": {},
   "source": [
    "### 70. Set Intersection: Given two sets A and B, write a Python program to find their intersection and print the common elements."
   ]
  },
  {
   "cell_type": "code",
   "execution_count": 93,
   "id": "8844300b",
   "metadata": {},
   "outputs": [
    {
     "name": "stdin",
     "output_type": "stream",
     "text": [
      "Enter elements for set A separated by spaces:  4 7 3 765 34 76\n",
      "Enter elements for set B separated by spaces:  65 36 363 742 25\n"
     ]
    },
    {
     "name": "stdout",
     "output_type": "stream",
     "text": [
      "Set A: {'7', '4', '3', '76', '765', '34'}\n",
      "Set B: {'65', '25', '742', '363', '36'}\n",
      "Intersection: set()\n"
     ]
    }
   ],
   "source": [
    "def find_intersection(set_a, set_b):\n",
    "    common_elements = set_a.intersection(set_b)\n",
    "    return common_elements\n",
    "\n",
    "set_a_input = input(\"Enter elements for set A separated by spaces: \").split()\n",
    "set_b_input = input(\"Enter elements for set B separated by spaces: \").split()\n",
    "\n",
    "set_a = set(set_a_input)\n",
    "set_b = set(set_b_input)\n",
    "\n",
    "intersection_result = find_intersection(set_a, set_b)\n",
    "\n",
    "print(\"Set A:\", set_a)\n",
    "print(\"Set B:\", set_b)\n",
    "print(\"Intersection:\", intersection_result)\n"
   ]
  },
  {
   "cell_type": "markdown",
   "id": "6f3eebeb",
   "metadata": {},
   "source": [
    "### 71. Set Union: Given two sets A and B, write a Python program to find their union and print all the distinct elements from both sets."
   ]
  },
  {
   "cell_type": "code",
   "execution_count": 94,
   "id": "e896bbe2",
   "metadata": {},
   "outputs": [
    {
     "name": "stdin",
     "output_type": "stream",
     "text": [
      "Enter elements for set A separated by spaces:  3453 35636 25 543 35345\n",
      "Enter elements for set B separated by spaces:  3 54 234 4563\n"
     ]
    },
    {
     "name": "stdout",
     "output_type": "stream",
     "text": [
      "Set A: {'3453', '543', '35636', '25', '35345'}\n",
      "Set B: {'4563', '3', '234', '54'}\n",
      "Union: {'3453', '543', '35636', '3', '25', '35345', '4563', '54', '234'}\n"
     ]
    }
   ],
   "source": [
    "def find_union(set_a, set_b):\n",
    "    union_elements = set_a.union(set_b)\n",
    "    return union_elements\n",
    "\n",
    "set_a_input = input(\"Enter elements for set A separated by spaces: \").split()\n",
    "set_b_input = input(\"Enter elements for set B separated by spaces: \").split()\n",
    "\n",
    "set_a = set(set_a_input)\n",
    "set_b = set(set_b_input)\n",
    "\n",
    "union_result = find_union(set_a, set_b)\n",
    "\n",
    "print(\"Set A:\", set_a)\n",
    "print(\"Set B:\", set_b)\n",
    "print(\"Union:\", union_result)\n"
   ]
  },
  {
   "cell_type": "markdown",
   "id": "fa9a882c",
   "metadata": {},
   "source": [
    "### 72. Set Difference: Given two sets A and B, write a Python program to find the difference between set A and set B (i.e., elements present in A but not in B) and print the result."
   ]
  },
  {
   "cell_type": "code",
   "execution_count": 95,
   "id": "e554ea06",
   "metadata": {},
   "outputs": [
    {
     "name": "stdin",
     "output_type": "stream",
     "text": [
      "Enter elements for set A separated by spaces:  35 35 28\n",
      "Enter elements for set B separated by spaces:  2384 29 2\n"
     ]
    },
    {
     "name": "stdout",
     "output_type": "stream",
     "text": [
      "Set A: {'28', '35'}\n",
      "Set B: {'29', '2', '2384'}\n",
      "Difference (A - B): {'28', '35'}\n"
     ]
    }
   ],
   "source": [
    "def find_set_difference(set_a, set_b):\n",
    "    difference_elements = set_a - set_b\n",
    "    return difference_elements\n",
    "\n",
    "set_a_input = input(\"Enter elements for set A separated by spaces: \").split()\n",
    "set_b_input = input(\"Enter elements for set B separated by spaces: \").split()\n",
    "\n",
    "set_a = set(set_a_input)\n",
    "set_b = set(set_b_input)\n",
    "\n",
    "difference_result = find_set_difference(set_a, set_b)\n",
    "\n",
    "print(\"Set A:\", set_a)\n",
    "print(\"Set B:\", set_b)\n",
    "print(\"Difference (A - B):\", difference_result)\n"
   ]
  },
  {
   "cell_type": "markdown",
   "id": "966fe5c0",
   "metadata": {},
   "source": [
    "### 73. Set Symmetric Difference: Given two sets A and B, write a Python program to find the symmetric difference between the two sets (i.e., elements that are present in either set A or set B, but not in both) and print the result."
   ]
  },
  {
   "cell_type": "code",
   "execution_count": 96,
   "id": "e4de3a45",
   "metadata": {},
   "outputs": [
    {
     "name": "stdin",
     "output_type": "stream",
     "text": [
      "Enter elements for set A separated by spaces:  374 3248 2 982 \n",
      "Enter elements for set B separated by spaces:  384 924 92\n"
     ]
    },
    {
     "name": "stdout",
     "output_type": "stream",
     "text": [
      "Set A: {'2', '982', '374', '3248'}\n",
      "Set B: {'924', '384', '92'}\n",
      "Symmetric Difference: {'374', '982', '3248', '384', '924', '92', '2'}\n"
     ]
    }
   ],
   "source": [
    "def find_symmetric_difference(set_a, set_b):\n",
    "    symmetric_difference_elements = set_a.symmetric_difference(set_b)\n",
    "    return symmetric_difference_elements\n",
    "\n",
    "set_a_input = input(\"Enter elements for set A separated by spaces: \").split()\n",
    "set_b_input = input(\"Enter elements for set B separated by spaces: \").split()\n",
    "\n",
    "set_a = set(set_a_input)\n",
    "set_b = set(set_b_input)\n",
    "\n",
    "symmetric_difference_result = find_symmetric_difference(set_a, set_b)\n",
    "\n",
    "print(\"Set A:\", set_a)\n",
    "print(\"Set B:\", set_b)\n",
    "print(\"Symmetric Difference:\", symmetric_difference_result)\n"
   ]
  },
  {
   "cell_type": "markdown",
   "id": "443bf19c",
   "metadata": {},
   "source": [
    "### 74. Set Operations: Given three sets A, B, and C, write a Python program to find and print the intersection of A and B, the union of B and C, and the difference between C and A."
   ]
  },
  {
   "cell_type": "code",
   "execution_count": 97,
   "id": "7abf5528",
   "metadata": {},
   "outputs": [
    {
     "name": "stdin",
     "output_type": "stream",
     "text": [
      "Enter elements for set A separated by spaces:  374 3248 2\n",
      "Enter elements for set B separated by spaces:  2 384 924 92\n",
      "Enter elements for set C separated by spaces:  374 32 924 92\n"
     ]
    },
    {
     "name": "stdout",
     "output_type": "stream",
     "text": [
      "Intersection of A and B: {'2'}\n",
      "Union of B and C: {'374', '32', '384', '924', '92', '2'}\n",
      "Difference between C and A: {'924', '32', '92'}\n"
     ]
    }
   ],
   "source": [
    "def find_intersection(set_a, set_b):\n",
    "    return set_a.intersection(set_b)\n",
    "\n",
    "def find_union(set_b, set_c):\n",
    "    return set_b.union(set_c)\n",
    "\n",
    "def find_set_difference(set_c, set_a):\n",
    "    return set_c - set_a\n",
    "\n",
    "set_a_input = input(\"Enter elements for set A separated by spaces: \").split()\n",
    "set_b_input = input(\"Enter elements for set B separated by spaces: \").split()\n",
    "set_c_input = input(\"Enter elements for set C separated by spaces: \").split()\n",
    "\n",
    "set_a = set(set_a_input)\n",
    "set_b = set(set_b_input)\n",
    "set_c = set(set_c_input)\n",
    "\n",
    "intersection_result = find_intersection(set_a, set_b)\n",
    "print(\"Intersection of A and B:\", intersection_result)\n",
    "\n",
    "union_result = find_union(set_b, set_c)\n",
    "print(\"Union of B and C:\", union_result)\n",
    "\n",
    "difference_result = find_set_difference(set_c, set_a)\n",
    "print(\"Difference between C and A:\", difference_result)\n"
   ]
  },
  {
   "cell_type": "markdown",
   "id": "73a3fd89",
   "metadata": {},
   "source": [
    "### 75. Set Subset Check: Given two sets A and B, write a Python program to check if set A is a subset of set B and print the result."
   ]
  },
  {
   "cell_type": "code",
   "execution_count": 98,
   "id": "cd2630d8",
   "metadata": {},
   "outputs": [
    {
     "name": "stdin",
     "output_type": "stream",
     "text": [
      "Enter elements for set A separated by spaces:  374 3248 2\n",
      "Enter elements for set B separated by spaces:  374 3 384 924 92\n"
     ]
    },
    {
     "name": "stdout",
     "output_type": "stream",
     "text": [
      "Set A: {'2', '374', '3248'}\n",
      "Set B: {'374', '3', '384', '924', '92'}\n",
      "Set A is not a subset of set B.\n"
     ]
    }
   ],
   "source": [
    "def check_subs(set_a, set_b):\n",
    "    return set_a.issubset(set_b)\n",
    "\n",
    "set_a_input = input(\"Enter elements for set A separated by spaces: \").split()\n",
    "set_b_input = input(\"Enter elements for set B separated by spaces: \").split()\n",
    "\n",
    "set_a = set(set_a_input)\n",
    "set_b = set(set_b_input)\n",
    "\n",
    "is_subset = check_subs(set_a, set_b)\n",
    "\n",
    "print(\"Set A:\", set_a)\n",
    "print(\"Set B:\", set_b)\n",
    "\n",
    "if is_subset:\n",
    "    print(\"Set A is a subset of set B.\")\n",
    "else:\n",
    "    print(\"Set A is not a subset of set B.\")\n"
   ]
  },
  {
   "cell_type": "markdown",
   "id": "636e853e",
   "metadata": {},
   "source": [
    "### 76. Set Superset Check: Given two sets A and B, write a Python program to check if set A is a superset of set B and print the result."
   ]
  },
  {
   "cell_type": "code",
   "execution_count": 99,
   "id": "c02f9a09",
   "metadata": {},
   "outputs": [
    {
     "name": "stdin",
     "output_type": "stream",
     "text": [
      "Enter elements for set A separated by spaces:  374 3248\n",
      "Enter elements for set B separated by spaces:  374 982 384 924 92\n"
     ]
    },
    {
     "name": "stdout",
     "output_type": "stream",
     "text": [
      "Set A: {'374', '3248'}\n",
      "Set B: {'374', '982', '384', '924', '92'}\n",
      "Set A is not a superset of set B.\n"
     ]
    }
   ],
   "source": [
    "def check_supers(set_a, set_b):\n",
    "    return set_a.issuperset(set_b)\n",
    "\n",
    "set_a_input = input(\"Enter elements for set A separated by spaces: \").split()\n",
    "set_b_input = input(\"Enter elements for set B separated by spaces: \").split()\n",
    "\n",
    "set_a = set(set_a_input)\n",
    "set_b = set(set_b_input)\n",
    "\n",
    "is_superset = check_supers(set_a, set_b)\n",
    "\n",
    "print(\"Set A:\", set_a)\n",
    "print(\"Set B:\", set_b)\n",
    "\n",
    "if is_superset:\n",
    "    print(\"Set A is a superset of set B.\")\n",
    "else:\n",
    "    print(\"Set A is not a superset of set B.\")\n"
   ]
  },
  {
   "cell_type": "markdown",
   "id": "fe0f56c2",
   "metadata": {},
   "source": [
    "### 77. Set Length Check: Write a Python program that takes a set as input and prints the number of elements in the set."
   ]
  },
  {
   "cell_type": "code",
   "execution_count": 100,
   "id": "53508012",
   "metadata": {},
   "outputs": [
    {
     "name": "stdin",
     "output_type": "stream",
     "text": [
      "Enter elements for the set separated by spaces:  374 3248 2 982 384 924 92\n"
     ]
    },
    {
     "name": "stdout",
     "output_type": "stream",
     "text": [
      "Number of elements in the set: 7\n"
     ]
    }
   ],
   "source": [
    "input_set = set(input(\"Enter elements for the set separated by spaces: \").split())\n",
    "num_elements = len(input_set)\n",
    "\n",
    "print(\"Number of elements in the set:\", num_elements)\n"
   ]
  },
  {
   "cell_type": "markdown",
   "id": "39c8e7ad",
   "metadata": {},
   "source": [
    "### 78. Set Membership Test: Write a Python program that takes an element as input and checks if it exists in a given set. Print “Found” if the element is present and “Not Found” otherwise."
   ]
  },
  {
   "cell_type": "code",
   "execution_count": 101,
   "id": "f4ed13f0",
   "metadata": {},
   "outputs": [
    {
     "name": "stdin",
     "output_type": "stream",
     "text": [
      "Enter the element to check:  56\n",
      "Enter elements for the set separated by spaces:  374 3248 2 982 384 924 92\n"
     ]
    },
    {
     "name": "stdout",
     "output_type": "stream",
     "text": [
      "Not Found\n"
     ]
    }
   ],
   "source": [
    "input_element = input(\"Enter the element to check: \")\n",
    "given_set = set(input(\"Enter elements for the set separated by spaces: \").split())\n",
    "if input_element in given_set:\n",
    "    print(\"Found\")\n",
    "else:\n",
    "    print(\"Not Found\")\n"
   ]
  },
  {
   "cell_type": "markdown",
   "id": "25b26f6f",
   "metadata": {},
   "source": [
    "### 79. Dictionary Manipulation: Given a dictionary with student names as keys and their corresponding scores as values, write a Python program to add a new student to the dictionary and update the score of an existing student."
   ]
  },
  {
   "cell_type": "code",
   "execution_count": 102,
   "id": "2fd20202",
   "metadata": {},
   "outputs": [
    {
     "name": "stdin",
     "output_type": "stream",
     "text": [
      "Enter the new student's name:  Mujib\n",
      "Enter the new student's score:  33\n",
      "Enter the existing student's name to update:  Alice\n",
      "Enter the updated score:  23\n"
     ]
    },
    {
     "name": "stdout",
     "output_type": "stream",
     "text": [
      "Updated Student Scores: {'Alice': 23, 'Bose': 90, 'Charl': 78, 'Davi': 92, 'Mujib': 33}\n"
     ]
    }
   ],
   "source": [
    "student_scores = {'Alice': 85, 'Bose': 90, 'Charl': 78, 'Davi': 92}\n",
    "\n",
    "new_student_name = input(\"Enter the new student's name: \")\n",
    "new_student_score = int(input(\"Enter the new student's score: \"))\n",
    "\n",
    "existing_student_name = input(\"Enter the existing student's name to update: \")\n",
    "updated_score = int(input(\"Enter the updated score: \"))\n",
    "\n",
    "student_scores[new_student_name] = new_student_score\n",
    "student_scores[existing_student_name] = updated_score\n",
    "\n",
    "print(\"Updated Student Scores:\", student_scores)\n"
   ]
  },
  {
   "cell_type": "markdown",
   "id": "7b2ac63d",
   "metadata": {},
   "source": [
    "### 80. Dictionary Keys and Values: Write a Python program that takes a dictionary as input and prints all the keys and values in separate lines."
   ]
  },
  {
   "cell_type": "code",
   "execution_count": 103,
   "id": "86eaca27",
   "metadata": {},
   "outputs": [
    {
     "name": "stdout",
     "output_type": "stream",
     "text": [
      "Key: Alices\n",
      "Value: 85\n",
      "\n",
      "Key: Boose\n",
      "Value: 90\n",
      "\n",
      "Key: Charl\n",
      "Value: 78\n",
      "\n",
      "Key: Davi\n",
      "Value: 92\n",
      "\n"
     ]
    }
   ],
   "source": [
    "input_dict = {'Alices': 85, 'Boose': 90, 'Charl': 78, 'Davi': 92}\n",
    "\n",
    "for key, value in input_dict.items():\n",
    "    print(\"Key:\", key)\n",
    "    print(\"Value:\", value)\n",
    "    print()\n"
   ]
  },
  {
   "cell_type": "markdown",
   "id": "47f7d8c6",
   "metadata": {},
   "source": [
    "### 81. Dictionary Length: Write a Python program to calculate and print the number of key-value pairs in a given dictionary."
   ]
  },
  {
   "cell_type": "code",
   "execution_count": 104,
   "id": "f314d4f8",
   "metadata": {},
   "outputs": [
    {
     "name": "stdout",
     "output_type": "stream",
     "text": [
      "Number of key-value pairs: 4\n"
     ]
    }
   ],
   "source": [
    "input_dict = {'Alice': 85, 'Mice': 90, 'Charl': 78, 'Davi': 92}\n",
    "\n",
    "num_key_value_pairs = len(input_dict)\n",
    "\n",
    "print(\"Number of key-value pairs:\", num_key_value_pairs)\n"
   ]
  },
  {
   "cell_type": "markdown",
   "id": "642b264d",
   "metadata": {},
   "source": [
    "### 82. Dictionary Value Search: Given a dictionary of items and their prices, write a Python program to search for an item based on its price and print the item’s name."
   ]
  },
  {
   "cell_type": "code",
   "execution_count": 105,
   "id": "18ebae6e",
   "metadata": {},
   "outputs": [
    {
     "name": "stdin",
     "output_type": "stream",
     "text": [
      "Enter the price to search for:  324\n"
     ]
    },
    {
     "name": "stdout",
     "output_type": "stream",
     "text": [
      "No item found with price 324.0\n"
     ]
    }
   ],
   "source": [
    "items_prices = {'Apple': 25, 'Banana': 10, 'Orange': 18, 'Grapes': 35}\n",
    "\n",
    "search_price = float(input(\"Enter the price to search for: \"))\n",
    "\n",
    "found_item = None\n",
    "for item, price in items_prices.items():\n",
    "    if price == search_price:\n",
    "        found_item = item\n",
    "        break\n",
    "\n",
    "if found_item:\n",
    "    print(f\"Item with price {search_price} found: {found_item}\")\n",
    "else:\n",
    "    print(f\"No item found with price {search_price}\")\n"
   ]
  },
  {
   "cell_type": "markdown",
   "id": "51475e7b",
   "metadata": {},
   "source": [
    "### 83. Dictionary Merging: Given two dictionaries, write a Python program to merge them into a single dictionary and print the result."
   ]
  },
  {
   "cell_type": "code",
   "execution_count": 106,
   "id": "b7a9a0d7",
   "metadata": {},
   "outputs": [
    {
     "name": "stdout",
     "output_type": "stream",
     "text": [
      "Merged Dictionary: {'Alic': 85, 'Boo': 90, 'Charl': 78, 'Davi': 92, 'Eva': 88, 'Frak': 95}\n"
     ]
    }
   ],
   "source": [
    "dict1 = {'Alic': 85, 'Boo': 90, 'Charl': 78}\n",
    "dict2 = {'Davi': 92, 'Eva': 88, 'Frak': 95}\n",
    "\n",
    "merged_dict = {**dict1, **dict2}\n",
    "\n",
    "print(\"Merged Dictionary:\", merged_dict)\n"
   ]
  },
  {
   "cell_type": "markdown",
   "id": "2b058fe6",
   "metadata": {},
   "source": [
    "### 84. Dictionary Key Removal: Given a dictionary of items and their quantities, write a Python program to remove a specific item from the dictionary based on user input."
   ]
  },
  {
   "cell_type": "code",
   "execution_count": 107,
   "id": "8b8a2f6b",
   "metadata": {},
   "outputs": [
    {
     "name": "stdin",
     "output_type": "stream",
     "text": [
      "Enter the item to remove:  Apple\n"
     ]
    },
    {
     "name": "stdout",
     "output_type": "stream",
     "text": [
      "Updated Dictionary: {'Banana': 8, 'Orange': 3, 'Grapes': 6}\n"
     ]
    }
   ],
   "source": [
    "items_quantities = {'Apple': 5, 'Banana': 8, 'Orange': 3, 'Grapes': 6}\n",
    "\n",
    "item_to_remove = input(\"Enter the item to remove: \")\n",
    "\n",
    "items_quantities.pop(item_to_remove, None)\n",
    "\n",
    "print(\"Updated Dictionary:\", items_quantities)\n",
    "\n",
    "\n",
    "\n",
    "\n",
    "\n"
   ]
  },
  {
   "cell_type": "markdown",
   "id": "e955586e",
   "metadata": {},
   "source": [
    "### 85. Dictionary Sorting: Given a dictionary with names as keys and corresponding ages as values, write a Python program to sort the dictionary based on age in ascending order."
   ]
  },
  {
   "cell_type": "code",
   "execution_count": 108,
   "id": "cebc60f2",
   "metadata": {},
   "outputs": [
    {
     "name": "stdout",
     "output_type": "stream",
     "text": [
      "Sorted Dictionary by Age (Ascending): {'Charl': 22, 'Alicee': 25, 'Davi': 28, 'Nike': 30}\n"
     ]
    }
   ],
   "source": [
    "ages_dict = {'Alicee': 25, 'Nike': 30, 'Charl': 22, 'Davi': 28}\n",
    "\n",
    "sorted_ages_dict = dict(sorted(ages_dict.items(), key=lambda item: item[1]))\n",
    "\n",
    "print(\"Sorted Dictionary by Age (Ascending):\", sorted_ages_dict)\n"
   ]
  },
  {
   "cell_type": "markdown",
   "id": "3a6dd800",
   "metadata": {},
   "source": [
    "### 86. Dictionary Frequency Count: Write a Python program that takes a string as input and creates a dictionary containing each character as a key and its frequency as the value."
   ]
  },
  {
   "cell_type": "code",
   "execution_count": 109,
   "id": "b7b053ef",
   "metadata": {},
   "outputs": [
    {
     "name": "stdin",
     "output_type": "stream",
     "text": [
      "Enter a string:  Hello World\n"
     ]
    },
    {
     "name": "stdout",
     "output_type": "stream",
     "text": [
      "Character Frequency Dictionary: {'H': 1, 'e': 1, 'l': 3, 'o': 2, ' ': 1, 'W': 1, 'r': 1, 'd': 1}\n"
     ]
    }
   ],
   "source": [
    "input_string = input(\"Enter a string: \")\n",
    "\n",
    "char_frequency_dict = {}\n",
    "\n",
    "for char in input_string:\n",
    "    char_frequency_dict[char] = char_frequency_dict.get(char, 0) + 1\n",
    "\n",
    "print(\"Character Frequency Dictionary:\", char_frequency_dict)\n"
   ]
  },
  {
   "cell_type": "markdown",
   "id": "38fb7e0e",
   "metadata": {},
   "source": [
    "### 87. Dictionary Comprehension: Given a list of integers, write a Python program to create a dictionary where the keys are the elements from the list, and the values are their squares."
   ]
  },
  {
   "cell_type": "code",
   "execution_count": 110,
   "id": "752fbf1e",
   "metadata": {},
   "outputs": [
    {
     "name": "stdin",
     "output_type": "stream",
     "text": [
      "Enter a list of integers separated by spaces:  374 3248 2 982 384 924 92\n"
     ]
    },
    {
     "name": "stdout",
     "output_type": "stream",
     "text": [
      "Dictionary with Elements and Their Squares: {374: 139876, 3248: 10549504, 2: 4, 982: 964324, 384: 147456, 924: 853776, 92: 8464}\n"
     ]
    }
   ],
   "source": [
    "input_list = [int(x) for x in input(\"Enter a list of integers separated by spaces: \").split()]\n",
    "\n",
    "squares_dict = {num: num**2 for num in input_list}\n",
    "\n",
    "print(\"Dictionary with Elements and Their Squares:\", squares_dict)\n"
   ]
  },
  {
   "cell_type": "markdown",
   "id": "9a652eda",
   "metadata": {},
   "source": [
    "### 88. Dictionary Key Check: Write a Python program that takes a key as input and checks if it exists in a given dictionary. Print “Key Found” if the key is present and “Key Not Found” otherwise."
   ]
  },
  {
   "cell_type": "code",
   "execution_count": 111,
   "id": "d59fdaac",
   "metadata": {},
   "outputs": [
    {
     "name": "stdin",
     "output_type": "stream",
     "text": [
      "Enter the key to check:  3\n"
     ]
    },
    {
     "name": "stdout",
     "output_type": "stream",
     "text": [
      "Key Not Found\n"
     ]
    }
   ],
   "source": [
    "input_key = input(\"Enter the key to check: \")\n",
    "\n",
    "given_dict = {'Alice': 25, 'Bob': 30, 'Charlie': 22, 'David': 28}\n",
    "\n",
    "if input_key in given_dict:\n",
    "    print(\"Key Found\")\n",
    "else:\n",
    "    print(\"Key Not Found\")\n"
   ]
  },
  {
   "cell_type": "markdown",
   "id": "7424f550",
   "metadata": {},
   "source": [
    "### 89. Access Nested Dictionary: Given a nested dictionary containing student details, write a Python program to access and print specific information such as a student’s name, age, and address."
   ]
  },
  {
   "cell_type": "code",
   "execution_count": 112,
   "id": "8463344f",
   "metadata": {},
   "outputs": [
    {
     "name": "stdin",
     "output_type": "stream",
     "text": [
      "Enter the student key to access information:  Alice\n"
     ]
    },
    {
     "name": "stdout",
     "output_type": "stream",
     "text": [
      "Student key not found.\n"
     ]
    }
   ],
   "source": [
    "students_dict = {\n",
    "    'Alie': {'name': 'Alie', 'age': 20, 'address': '123 Main St'},\n",
    "    'Mice': {'name': 'Bob', 'age': 22, 'address': '456 Oak Ave'},\n",
    "    'Charl': {'name': 'Charl', 'age': 21, 'address': '789 Pine Rd'}\n",
    "}\n",
    "\n",
    "student_key = input(\"Enter the student key to access information: \")\n",
    "\n",
    "if student_key in students_dict:\n",
    "    student_info = students_dict[student_key]\n",
    "    print(\"Name:\", student_info['name'])\n",
    "    print(\"Age:\", student_info['age'])\n",
    "    print(\"Address:\", student_info['address'])\n",
    "else:\n",
    "    print(\"Student key not found.\")\n"
   ]
  },
  {
   "cell_type": "markdown",
   "id": "7cd4d5d8",
   "metadata": {},
   "source": [
    "### 90. Nested Dictionary Length: Write a Python program to calculate and print the total number of key-value pairs in a nested dictionary."
   ]
  },
  {
   "cell_type": "code",
   "execution_count": 113,
   "id": "e12f23a4",
   "metadata": {},
   "outputs": [
    {
     "name": "stdout",
     "output_type": "stream",
     "text": [
      "Total Number of Key-Value Pairs: 12\n"
     ]
    }
   ],
   "source": [
    "nested_dict = {\n",
    "    'outer_key1': {'inner_key1': 'value1', 'inner_key2': 'value2'},\n",
    "    'outer_key2': {'inner_key3': 'value3', 'inner_key4': 'value4'},\n",
    "    'outer_key3': {'inner_key5': 'value5', 'inner_key6': 'value6'},\n",
    "    'outer_key4': {'inner_key5': 'value5', 'inner_key6': 'value6'},\n",
    "    'outer_key5': {'inner_key5': 'value5', 'inner_key6': 'value6'},\n",
    "    'outer_key6': {'inner_key5': 'value5', 'inner_key6': 'value6'}\n",
    "}\n",
    "total_pairs = sum(len(inner_dict) for inner_dict in nested_dict.values())\n",
    "\n",
    "print(\"Total Number of Key-Value Pairs:\", total_pairs)\n",
    "\n"
   ]
  },
  {
   "cell_type": "markdown",
   "id": "05b2d563",
   "metadata": {},
   "source": [
    "### 91. Nested Dictionary Update: Given a nested dictionary of employee details, write a Python program to update an employee’s salary based on their employee ID."
   ]
  },
  {
   "cell_type": "code",
   "execution_count": 114,
   "id": "099a50e9",
   "metadata": {},
   "outputs": [
    {
     "name": "stdin",
     "output_type": "stream",
     "text": [
      "Enter the employee ID to update salary:  Nike\n",
      "Enter the updated salary:  10000000\n"
     ]
    },
    {
     "name": "stdout",
     "output_type": "stream",
     "text": [
      "Salary updated successfully.\n"
     ]
    }
   ],
   "source": [
    "employees_dict = {\n",
    "    'Alic': {'name': 'Alic', 'salary': 50000},\n",
    "    'Nike': {'name': 'Nike', 'salary': 60000},\n",
    "    'Charl': {'name': 'Charl', 'salary': 70000}\n",
    "}\n",
    "\n",
    "employee_id = input(\"Enter the employee ID to update salary: \")\n",
    "updated_salary = float(input(\"Enter the updated salary: \"))\n",
    "\n",
    "if employee_id in employees_dict:\n",
    "    employees_dict[employee_id]['salary'] = updated_salary\n",
    "    print(\"Salary updated successfully.\")\n",
    "else:\n",
    "    print(\"Employee ID not found.\")\n"
   ]
  },
  {
   "cell_type": "markdown",
   "id": "b5efd1df",
   "metadata": {},
   "source": [
    "### 92. Nested Dictionary Sorting: Given a nested dictionary containing product details (product name, price, and quantity), write a Python program to sort the products based on their prices in ascending order."
   ]
  },
  {
   "cell_type": "code",
   "execution_count": 115,
   "id": "523e2e6c",
   "metadata": {},
   "outputs": [
    {
     "name": "stdout",
     "output_type": "stream",
     "text": [
      "Sorted Products by Price (Ascending): {'Headphones': {'name': 'Headphones', 'price': 50, 'quantity': 20}, 'Smartphone': {'name': 'Smartphone', 'price': 800, 'quantity': 10}, 'Laptop': {'name': 'Laptop', 'price': 1200, 'quantity': 5}}\n"
     ]
    }
   ],
   "source": [
    "products_dict = {\n",
    "    'Laptop': {'name': 'Laptop', 'price': 1200, 'quantity': 5},\n",
    "    'Smartphone': {'name': 'Smartphone', 'price': 800, 'quantity': 10},\n",
    "    'Headphones': {'name': 'Headphones', 'price': 50, 'quantity': 20}\n",
    "}\n",
    "\n",
    "sorted_products = dict(sorted(products_dict.items(), key=lambda item: item[1]['price']))\n",
    "\n",
    "print(\"Sorted Products by Price (Ascending):\", sorted_products)\n",
    "\n"
   ]
  },
  {
   "cell_type": "markdown",
   "id": "21ff3bd8",
   "metadata": {},
   "source": [
    "### 93. Nested Dictionary Key Search: Write a Python program that takes a key as input and searches for it in a nested dictionary. If found, print the corresponding value, otherwise, print “Key Not Found.”"
   ]
  },
  {
   "cell_type": "code",
   "execution_count": 116,
   "id": "83121ffe",
   "metadata": {},
   "outputs": [
    {
     "name": "stdin",
     "output_type": "stream",
     "text": [
      "Enter the key to search:  Enter\n"
     ]
    },
    {
     "name": "stdout",
     "output_type": "stream",
     "text": [
      "Key Not Found.\n"
     ]
    }
   ],
   "source": [
    "nested_dict = {\n",
    "    'outer_key1': {'inner_key1': 'value1', 'inner_key2': 'value2'},\n",
    "    'outer_key2': {'inner_key3': 'value3', 'inner_key4': 'value4'},\n",
    "    'outer_key3': {'inner_key5': 'value5', 'inner_key6': 'value6'}\n",
    "}\n",
    "\n",
    "search_key = input(\"Enter the key to search: \")\n",
    "\n",
    "found_value = None\n",
    "for outer_key, inner_dict in nested_dict.items():\n",
    "    if search_key in inner_dict:\n",
    "        found_value = inner_dict[search_key]\n",
    "        break\n",
    "\n",
    "if found_value is not None:\n",
    "    print(\"Corresponding Value:\", found_value)\n",
    "else:\n",
    "    print(\"Key Not Found.\")\n"
   ]
  },
  {
   "cell_type": "markdown",
   "id": "260ad19f",
   "metadata": {},
   "source": [
    "### 94. Prime Number Checker: Write a Python program that takes a number as input and determines if it is a prime number or not. Use a `for` loop to check for factors. If a factor is found, `break` out of the loop."
   ]
  },
  {
   "cell_type": "code",
   "execution_count": 117,
   "id": "c1247005",
   "metadata": {},
   "outputs": [
    {
     "name": "stdin",
     "output_type": "stream",
     "text": [
      "Enter a number:  34\n"
     ]
    },
    {
     "name": "stdout",
     "output_type": "stream",
     "text": [
      "34 is not a prime number.\n"
     ]
    }
   ],
   "source": [
    "num = int(input(\"Enter a number: \"))\n",
    "\n",
    "is_prime = True\n",
    "\n",
    "if num > 1:\n",
    "    for i in range(2, int(num**0.5) + 1):\n",
    "        if num % i == 0:\n",
    "            is_prime = False\n",
    "            break\n",
    "\n",
    "if is_prime and num > 1:\n",
    "    print(f\"{num} is a prime number.\")\n",
    "else:\n",
    "    print(f\"{num} is not a prime number.\")\n"
   ]
  },
  {
   "cell_type": "markdown",
   "id": "88c135a6",
   "metadata": {},
   "source": [
    "### 95. Even Number Printer: Write a Python program to print all even numbers from 1 to 20. Use a `for` loop and `continue` to skip odd numbers."
   ]
  },
  {
   "cell_type": "code",
   "execution_count": 118,
   "id": "83ee3590",
   "metadata": {},
   "outputs": [
    {
     "name": "stdout",
     "output_type": "stream",
     "text": [
      "2\n",
      "4\n",
      "6\n",
      "8\n",
      "10\n",
      "12\n",
      "14\n",
      "16\n",
      "18\n",
      "20\n"
     ]
    }
   ],
   "source": [
    "for num in range(1, 21):\n",
    "    if num % 2 != 0:\n",
    "        continue\n",
    "    print(num)\n"
   ]
  },
  {
   "cell_type": "markdown",
   "id": "354e2ccf",
   "metadata": {},
   "source": [
    "### 96. Password Validator: Write a Python program that takes a password as input and checks if it meets the following criteria: at least 8 characters long, contains both uppercase and lowercase letters, and has at least one digit. If the password is valid, print “Password accepted.” If not, use `continue` to prompt the user to enter a valid password."
   ]
  },
  {
   "cell_type": "code",
   "execution_count": 119,
   "id": "a7818b0f",
   "metadata": {},
   "outputs": [
    {
     "name": "stdin",
     "output_type": "stream",
     "text": [
      "Enter a password:  passowrd\n"
     ]
    },
    {
     "name": "stdout",
     "output_type": "stream",
     "text": [
      "Invalid password. Please enter a password meeting the criteria.\n"
     ]
    },
    {
     "name": "stdin",
     "output_type": "stream",
     "text": [
      "Enter a password:  PassWord@#4\n"
     ]
    },
    {
     "name": "stdout",
     "output_type": "stream",
     "text": [
      "Password accepted.\n"
     ]
    }
   ],
   "source": [
    "while True:\n",
    "    password = input(\"Enter a password: \")\n",
    "\n",
    "    if len(password) < 8 or not any(char.isupper() for char in password) or not any(char.islower() for char in password) or not any(char.isdigit() for char in password):\n",
    "        print(\"Invalid password. Please enter a password meeting the criteria.\")\n",
    "        continue\n",
    "\n",
    "    print(\"Password accepted.\")\n",
    "    break\n"
   ]
  },
  {
   "cell_type": "markdown",
   "id": "da860841",
   "metadata": {},
   "source": [
    "### 97. Divisible by 3 or 5: Write a Python program to print all numbers from 1 to 50 that are divisible by either 3 or 5. Use a `for` loop and `continue` to skip numbers that are not divisible by either 3 or 5."
   ]
  },
  {
   "cell_type": "code",
   "execution_count": 120,
   "id": "bb654ae0",
   "metadata": {},
   "outputs": [
    {
     "name": "stdout",
     "output_type": "stream",
     "text": [
      "3\n",
      "5\n",
      "6\n",
      "9\n",
      "10\n",
      "12\n",
      "15\n",
      "18\n",
      "20\n",
      "21\n",
      "24\n",
      "25\n",
      "27\n",
      "30\n",
      "33\n",
      "35\n",
      "36\n",
      "39\n",
      "40\n",
      "42\n",
      "45\n",
      "48\n",
      "50\n"
     ]
    }
   ],
   "source": [
    "for num in range(1, 51):\n",
    "    if num % 3 != 0 and num % 5 != 0:\n",
    "        continue\n",
    "    print(num)\n"
   ]
  },
  {
   "cell_type": "markdown",
   "id": "51af450e",
   "metadata": {},
   "source": [
    "### 98. Positive Number Sum: Write a Python program that takes positive numbers as input until a negative number is entered. Then, calculate and print the sum of all positive numbers entered. Use a `while` loop and `break` to exit the loop when a negative number is encountered."
   ]
  },
  {
   "cell_type": "code",
   "execution_count": 121,
   "id": "1047f93e",
   "metadata": {},
   "outputs": [
    {
     "name": "stdin",
     "output_type": "stream",
     "text": [
      "Enter a positive number (enter a negative number to exit):  34\n",
      "Enter a positive number (enter a negative number to exit):  22\n",
      "Enter a positive number (enter a negative number to exit):  -1\n"
     ]
    },
    {
     "name": "stdout",
     "output_type": "stream",
     "text": [
      "Sum of positive numbers: 56\n"
     ]
    }
   ],
   "source": [
    "total_sum = 0\n",
    "\n",
    "while True:\n",
    "    num = int(input(\"Enter a positive number (enter a negative number to exit): \"))\n",
    "    \n",
    "    if num < 0:\n",
    "        break\n",
    "\n",
    "    total_sum += num\n",
    "\n",
    "print(\"Sum of positive numbers:\", total_sum)\n"
   ]
  },
  {
   "cell_type": "markdown",
   "id": "8ef056f9",
   "metadata": {},
   "source": [
    "### 99. Word Palindrome Checker: Write a Python program that takes a word as input and checks if it is a palindrome (reads the same forwards and backward). Use `continue` to skip checking the word if its length is less than 3 characters."
   ]
  },
  {
   "cell_type": "code",
   "execution_count": 122,
   "id": "127cd86c",
   "metadata": {},
   "outputs": [
    {
     "name": "stdin",
     "output_type": "stream",
     "text": [
      "Enter a word:  Hello\n"
     ]
    },
    {
     "name": "stdout",
     "output_type": "stream",
     "text": [
      "The word is not a palindrome.\n"
     ]
    }
   ],
   "source": [
    "while True:\n",
    "    word = input(\"Enter a word: \")\n",
    "\n",
    "    if len(word) < 3:\n",
    "        print(\"Word length should be at least 3 characters. Please enter a longer word.\")\n",
    "        continue\n",
    "\n",
    "    if word == word[::-1]:\n",
    "        print(\"The word is a palindrome.\")\n",
    "    else:\n",
    "        print(\"The word is not a palindrome.\")\n",
    "    break\n",
    "\n"
   ]
  },
  {
   "cell_type": "markdown",
   "id": "64e66b3c",
   "metadata": {},
   "source": [
    "### 100. Odd Number Finder: Write a Python program to find the first odd number from a list of integers. Use a `for` loop and `break` to stop the loop when the first odd number is found."
   ]
  },
  {
   "cell_type": "code",
   "execution_count": 123,
   "id": "5199f508",
   "metadata": {},
   "outputs": [
    {
     "name": "stdout",
     "output_type": "stream",
     "text": [
      "The first odd number is: 7\n"
     ]
    }
   ],
   "source": [
    "def find_first_odd_number(numbers):\n",
    "    for num in numbers:\n",
    "        if num % 2 != 0:\n",
    "            print(f\"The first odd number is: {num}\")\n",
    "            break\n",
    "\n",
    "integer_list = [2, 4, 7, 10, 12, 17, 20]\n",
    "find_first_odd_number(integer_list)\n"
   ]
  },
  {
   "cell_type": "markdown",
   "id": "1b68b9e9",
   "metadata": {},
   "source": [
    "### 101. Number Guessing Game: Write a Python program that generates a random number between 1 and 100 and lets the user guess the number. Use a `while` loop, `break` when the correct number is guessed, and `continue` to keep prompting the user until they guess correctly."
   ]
  },
  {
   "cell_type": "code",
   "execution_count": 125,
   "id": "84da03aa",
   "metadata": {},
   "outputs": [
    {
     "name": "stdin",
     "output_type": "stream",
     "text": [
      "Guess the number between 1 and 100:  43\n"
     ]
    },
    {
     "name": "stdout",
     "output_type": "stream",
     "text": [
      "Incorrect guess. Try again. Secret Number is Greater than Your Guess.\n"
     ]
    },
    {
     "name": "stdin",
     "output_type": "stream",
     "text": [
      "Guess the number between 1 and 100:  70\n"
     ]
    },
    {
     "name": "stdout",
     "output_type": "stream",
     "text": [
      "Incorrect guess. Try again. Secret Number is Greater than Your Guess.\n"
     ]
    },
    {
     "name": "stdin",
     "output_type": "stream",
     "text": [
      "Guess the number between 1 and 100:  90\n"
     ]
    },
    {
     "name": "stdout",
     "output_type": "stream",
     "text": [
      "Incorrect guess. Try again. Secret Number is Greater than Your Guess.\n"
     ]
    },
    {
     "name": "stdin",
     "output_type": "stream",
     "text": [
      "Guess the number between 1 and 100:  95\n"
     ]
    },
    {
     "name": "stdout",
     "output_type": "stream",
     "text": [
      "Incorrect guess. Try again. Secret Number is Greater than Your Guess.\n"
     ]
    },
    {
     "name": "stdin",
     "output_type": "stream",
     "text": [
      "Guess the number between 1 and 100:  99\n"
     ]
    },
    {
     "name": "stdout",
     "output_type": "stream",
     "text": [
      "Incorrect guess. Try again. Secret Number is Smaller than Your Guess.\n"
     ]
    },
    {
     "name": "stdin",
     "output_type": "stream",
     "text": [
      "Guess the number between 1 and 100:  97\n"
     ]
    },
    {
     "name": "stdout",
     "output_type": "stream",
     "text": [
      "Incorrect guess. Try again. Secret Number is Greater than Your Guess.\n"
     ]
    },
    {
     "name": "stdin",
     "output_type": "stream",
     "text": [
      "Guess the number between 1 and 100:  98\n"
     ]
    },
    {
     "name": "stdout",
     "output_type": "stream",
     "text": [
      "Congratulations! You guessed the correct number.\n"
     ]
    }
   ],
   "source": [
    "import random\n",
    "\n",
    "def guess_the_number():\n",
    "    secret_number = random.randint(1, 100)\n",
    "\n",
    "    while True:\n",
    "        guess = int(input(\"Guess the number between 1 and 100: \"))\n",
    "\n",
    "        if guess == secret_number:\n",
    "            print(\"Congratulations! You guessed the correct number.\")\n",
    "            break\n",
    "        else:\n",
    "            if guess > secret_number:\n",
    "                print(\"Incorrect guess. Try again. Secret Number is Smaller than Your Guess.\")\n",
    "            else:\n",
    "                print(\"Incorrect guess. Try again. Secret Number is Greater than Your Guess.\")\n",
    "            continue\n",
    "\n",
    "guess_the_number()\n"
   ]
  },
  {
   "cell_type": "markdown",
   "id": "9fb4ef24",
   "metadata": {},
   "source": [
    "### 102. Vowel Counter: Write a Python program that takes a string as input and counts the number of vowels (a, e, i, o, u) in it. Use a `for` loop and `continue` to skip counting non-vowel characters."
   ]
  },
  {
   "cell_type": "code",
   "execution_count": 126,
   "id": "036cb809",
   "metadata": {},
   "outputs": [
    {
     "name": "stdin",
     "output_type": "stream",
     "text": [
      "Enter a string:  World\n"
     ]
    },
    {
     "name": "stdout",
     "output_type": "stream",
     "text": [
      "The number of vowels in the string is: 1\n"
     ]
    }
   ],
   "source": [
    "def count_vowels(input_string):\n",
    "    vowel_count = 0\n",
    "\n",
    "    for char in input_string:\n",
    "        if not char.isalpha():\n",
    "            continue\n",
    "\n",
    "        if char.lower() in ['a', 'e', 'i', 'o', 'u']:\n",
    "            vowel_count += 1\n",
    "\n",
    "    print(f\"The number of vowels in the string is: {vowel_count}\")\n",
    "\n",
    "user_input = input(\"Enter a string: \")\n",
    "count_vowels(user_input)\n"
   ]
  },
  {
   "cell_type": "markdown",
   "id": "5b9d56a5",
   "metadata": {},
   "source": [
    "### 103. Unique Characters: Write a Python program that takes a string as input and checks if it contains all unique characters (no character repeats). Use a `for` loop and `break` when a character repeats."
   ]
  },
  {
   "cell_type": "code",
   "execution_count": 127,
   "id": "8f883f01",
   "metadata": {},
   "outputs": [
    {
     "name": "stdin",
     "output_type": "stream",
     "text": [
      "Enter a string:  Hello\n"
     ]
    },
    {
     "name": "stdout",
     "output_type": "stream",
     "text": [
      "String does not contain all unique characters.\n"
     ]
    }
   ],
   "source": [
    "def has_unique_characters(input_string):\n",
    "    seen_characters = set()\n",
    "\n",
    "    for char in input_string:\n",
    "        if char in seen_characters:\n",
    "            print(\"String does not contain all unique characters.\")\n",
    "            break \n",
    "        seen_characters.add(char)\n",
    "    else:\n",
    "        print(\"String contains all unique characters.\")\n",
    " \n",
    "user_input = input(\"Enter a string: \")\n",
    "has_unique_characters(user_input)\n"
   ]
  },
  {
   "cell_type": "markdown",
   "id": "b677fce4",
   "metadata": {},
   "source": [
    "### 104. Factorial Calculator: Write a Python function called `factorial` that takes an integer as input and returns its factorial. Test the function with different values."
   ]
  },
  {
   "cell_type": "code",
   "execution_count": 128,
   "id": "3b3573f9",
   "metadata": {},
   "outputs": [
    {
     "name": "stdin",
     "output_type": "stream",
     "text": [
      "Enter an integer to calculate its factorial:  34\n"
     ]
    },
    {
     "name": "stdout",
     "output_type": "stream",
     "text": [
      "295232799039604140847618609643520000000\n"
     ]
    }
   ],
   "source": [
    "def factorial(n):\n",
    "    if n < 0:\n",
    "        return \"Factorial is undefined for negative numbers.\"\n",
    "    elif n == 0 or n == 1:\n",
    "        return 1\n",
    "    else:\n",
    "        result = 1\n",
    "        for i in range(2, n + 1):\n",
    "            result *= i\n",
    "        return result\n",
    "\n",
    "user_input = int(input(\"Enter an integer to calculate its factorial: \"))\n",
    "print(factorial(user_input))\n",
    "\n"
   ]
  },
  {
   "cell_type": "markdown",
   "id": "fd2de29b",
   "metadata": {},
   "source": [
    "### 105 Palindrome Checker: Write a Python function called `is_palindrome` that takes a string as input and returns `True` if it is a palindrome and `False` otherwise. Test the function with different words."
   ]
  },
  {
   "cell_type": "code",
   "execution_count": 129,
   "id": "7d93448f",
   "metadata": {},
   "outputs": [
    {
     "name": "stdin",
     "output_type": "stream",
     "text": [
      "Enter a word or phrase to check if it's a palindrome:  madam\n"
     ]
    },
    {
     "name": "stdout",
     "output_type": "stream",
     "text": [
      "madam is a palindrome.\n"
     ]
    }
   ],
   "source": [
    "def is_palindrome(word):\n",
    "    cleaned_word = ''.join(char.lower() for char in word if char.isalnum())\n",
    "    is_palindrome_result = cleaned_word == cleaned_word[::-1]\n",
    "\n",
    "    if is_palindrome_result:\n",
    "        print(f\"{word} is a palindrome.\")\n",
    "    else:\n",
    "        print(f\"{word} is not a palindrome.\")\n",
    "\n",
    "user_input = input(\"Enter a word or phrase to check if it's a palindrome: \")\n",
    "is_palindrome(user_input)\n"
   ]
  },
  {
   "cell_type": "markdown",
   "id": "a544843a",
   "metadata": {},
   "source": [
    "### 106. Even or Odd Checker: Write a Python function called `even_or_odd` that takes an integer as input and returns “Even” if the number is even and “Odd” if the number is odd. Test the function with different numbers."
   ]
  },
  {
   "cell_type": "code",
   "execution_count": 130,
   "id": "7cc945d0",
   "metadata": {},
   "outputs": [
    {
     "name": "stdin",
     "output_type": "stream",
     "text": [
      "Enter an integer to check if it's even or odd:  4\n"
     ]
    },
    {
     "name": "stdout",
     "output_type": "stream",
     "text": [
      "The number 4 is Even.\n"
     ]
    }
   ],
   "source": [
    "def even_or_odd(number):\n",
    "    if number % 2 == 0:\n",
    "        return \"Even\"\n",
    "    else:\n",
    "        return \"Odd\"\n",
    "\n",
    "user_input = int(input(\"Enter an integer to check if it's even or odd: \"))\n",
    "result = even_or_odd(user_input)\n",
    "print(f\"The number {user_input} is {result}.\")\n",
    "\n"
   ]
  },
  {
   "cell_type": "markdown",
   "id": "381cccfa",
   "metadata": {},
   "source": [
    "### 107. List Sum Calculator: Write a Python function called `list_sum` that takes a list of integers as input and returns the sum of all elements in the list. Test the function with different lists."
   ]
  },
  {
   "cell_type": "code",
   "execution_count": 131,
   "id": "20f6fda4",
   "metadata": {},
   "outputs": [
    {
     "name": "stdin",
     "output_type": "stream",
     "text": [
      "Enter a list of integers separated by spaces:  37 892 73 82\n"
     ]
    },
    {
     "name": "stdout",
     "output_type": "stream",
     "text": [
      "The sum of the list is: 1084\n"
     ]
    }
   ],
   "source": [
    "def list_sum(numbers):\n",
    "    return sum(numbers)\n",
    "\n",
    "user_input = [int(x) for x in input(\"Enter a list of integers separated by spaces: \").split()]\n",
    "result = list_sum(user_input)\n",
    "print(f\"The sum of the list is: {result}\")\n"
   ]
  },
  {
   "cell_type": "markdown",
   "id": "a27cfdaa",
   "metadata": {},
   "source": [
    "### 108. Greatest Common Divisor (GCD) Calculator: Write a Python function called `gcd` that takes two integers as input and returns their greatest common divisor. Test the function with different pairs of numbers."
   ]
  },
  {
   "cell_type": "code",
   "execution_count": 132,
   "id": "c187da0e",
   "metadata": {},
   "outputs": [
    {
     "name": "stdin",
     "output_type": "stream",
     "text": [
      "Enter the first integer:  3\n",
      "Enter the second integer:  5\n"
     ]
    },
    {
     "name": "stdout",
     "output_type": "stream",
     "text": [
      "The greatest common divisor of 3 and 5 is: 1\n"
     ]
    }
   ],
   "source": [
    "def gcd(a, b):\n",
    "    while b:\n",
    "        a, b = b, a % b\n",
    "    return abs(a)\n",
    "\n",
    "num1 = int(input(\"Enter the first integer: \"))\n",
    "num2 = int(input(\"Enter the second integer: \"))\n",
    "\n",
    "result = gcd(num1, num2)\n",
    "print(f\"The greatest common divisor of {num1} and {num2} is: {result}\")\n"
   ]
  },
  {
   "cell_type": "markdown",
   "id": "f919d715",
   "metadata": {},
   "source": [
    "### 109. Leap Year Checker: Write a Python function called `is_leap_year` that takes a year as input and returns `True` if it is a leap year and `False` otherwise. Test the function with different years."
   ]
  },
  {
   "cell_type": "code",
   "execution_count": 133,
   "id": "00f58bb5",
   "metadata": {},
   "outputs": [
    {
     "name": "stdin",
     "output_type": "stream",
     "text": [
      "Enter a year to check if it's a leap year:  1999\n"
     ]
    },
    {
     "name": "stdout",
     "output_type": "stream",
     "text": [
      "1999 is not a leap year.\n"
     ]
    }
   ],
   "source": [
    "def is_leap_year(year):\n",
    "    if (year % 4 == 0 and year % 100 != 0) or (year % 400 == 0):\n",
    "        return True\n",
    "    else:\n",
    "        return False\n",
    "\n",
    "user_input = int(input(\"Enter a year to check if it's a leap year: \"))\n",
    "result = is_leap_year(user_input)\n",
    "\n",
    "if result:\n",
    "    print(f\"{user_input} is a leap year.\")\n",
    "else:\n",
    "    print(f\"{user_input} is not a leap year.\")\n"
   ]
  },
  {
   "cell_type": "markdown",
   "id": "673909a5",
   "metadata": {},
   "source": [
    "### 110. Math Operations: Write a Python function called `math_operations` that takes three numbers and a string representing an operation (‘add’, ‘subtract’, ‘multiply’, or ‘divide’). The function should return the result of the specified operation on the three numbers. Implement the math operations as nested functions."
   ]
  },
  {
   "cell_type": "code",
   "execution_count": 134,
   "id": "8bfe9d4a",
   "metadata": {},
   "outputs": [
    {
     "name": "stdin",
     "output_type": "stream",
     "text": [
      "Enter the first number:  4\n",
      "Enter the second number:  65\n",
      "Enter the third number:  2\n",
      "Enter the operation ('add', 'subtract', 'multiply', or 'divide'):  add\n"
     ]
    },
    {
     "name": "stdout",
     "output_type": "stream",
     "text": [
      "Result: 71.0\n"
     ]
    }
   ],
   "source": [
    "def math_operations(a, b, c, operation):\n",
    "    def add(x, y, z):\n",
    "        return x + y + z\n",
    "\n",
    "    def subtract(x, y, z):\n",
    "        return x - y - z\n",
    "\n",
    "    def multiply(x, y, z):\n",
    "        return x * y * z\n",
    "\n",
    "    def divide(x, y, z):\n",
    "        if y == 0 or z == 0:\n",
    "            return \"Cannot divide by zero\"\n",
    "        return x / y / z\n",
    "\n",
    "    if operation == 'add':\n",
    "        return add(a, b, c)\n",
    "    elif operation == 'subtract':\n",
    "        return subtract(a, b, c)\n",
    "    elif operation == 'multiply':\n",
    "        return multiply(a, b, c)\n",
    "    elif operation == 'divide':\n",
    "        return divide(a, b, c)\n",
    "    else:\n",
    "        return \"Invalid operation\"\n",
    "\n",
    "a = float(input(\"Enter the first number: \"))\n",
    "b = float(input(\"Enter the second number: \"))\n",
    "c = float(input(\"Enter the third number: \"))\n",
    "operation = input(\"Enter the operation ('add', 'subtract', 'multiply', or 'divide'): \")\n",
    "\n",
    "result = math_operations(a, b, c, operation)\n",
    "print(f\"Result: {result}\")\n"
   ]
  },
  {
   "cell_type": "markdown",
   "id": "d34d4451",
   "metadata": {},
   "source": [
    "### 111. Greeting Generator: Write a Python function called `greeting_generator` that takes a name as input and returns a greeting message using nested functions. The greeting message should be customizable (e.g., “Hello, {name}! How are you today?”)."
   ]
  },
  {
   "cell_type": "code",
   "execution_count": 135,
   "id": "7f8fd680",
   "metadata": {},
   "outputs": [
    {
     "name": "stdin",
     "output_type": "stream",
     "text": [
      "Enter your name:  Muzan\n"
     ]
    },
    {
     "name": "stdout",
     "output_type": "stream",
     "text": [
      "Hello, Muzan! How are you today?\n"
     ]
    }
   ],
   "source": [
    "def greeting_generator(name):\n",
    "    def generate_greeting():\n",
    "        return f\"Hello, {name}! How are you today?\"\n",
    "\n",
    "    return generate_greeting()\n",
    "\n",
    "name_input = input(\"Enter your name: \")\n",
    "greeting_message = greeting_generator(name_input)\n",
    "print(greeting_message)\n"
   ]
  },
  {
   "cell_type": "markdown",
   "id": "6b0c2e86",
   "metadata": {},
   "source": [
    "### 112. Temperature Converter: Write a Python function called `temperature_converter` that takes a temperature value and a string representing the scale (‘C’ for Celsius or ‘F’ for Fahrenheit) as input. The function should convert the temperature from one scale to the other using nested functions and return the converted value."
   ]
  },
  {
   "cell_type": "code",
   "execution_count": 136,
   "id": "6aae0f4c",
   "metadata": {},
   "outputs": [
    {
     "name": "stdin",
     "output_type": "stream",
     "text": [
      "Enter the temperature value:  44\n",
      "Enter the scale ('C' for Celsius or 'F' for Fahrenheit):  F\n"
     ]
    },
    {
     "name": "stdout",
     "output_type": "stream",
     "text": [
      "The converted temperature is: 111.2\n"
     ]
    }
   ],
   "source": [
    "def temperature_converter(value, scale):\n",
    "    def celsius_to_fahrenheit(celsius):\n",
    "        return (celsius * 9/5) + 32\n",
    "\n",
    "    def fahrenheit_to_celsius(fahrenheit):\n",
    "        return (fahrenheit - 32) * 5/9\n",
    "\n",
    "    if scale.upper() == 'C':\n",
    "        return fahrenheit_to_celsius(value)\n",
    "    elif scale.upper() == 'F':\n",
    "        return celsius_to_fahrenheit(value)\n",
    "    else:\n",
    "        return \"Invalid scale. Use 'C' for Celsius or 'F' for Fahrenheit.\"\n",
    "\n",
    "temperature_value = float(input(\"Enter the temperature value: \"))\n",
    "temperature_scale = input(\"Enter the scale ('C' for Celsius or 'F' for Fahrenheit): \")\n",
    "\n",
    "converted_temperature = temperature_converter(temperature_value, temperature_scale)\n",
    "print(f\"The converted temperature is: {converted_temperature}\")\n"
   ]
  },
  {
   "cell_type": "markdown",
   "id": "7b622b5e",
   "metadata": {},
   "source": [
    "### 113. Factorial Calculation: Write a recursive Python function called `factorial` that takes a non-negative integer as input and returns its factorial."
   ]
  },
  {
   "cell_type": "code",
   "execution_count": 137,
   "id": "2c76ac1b",
   "metadata": {},
   "outputs": [
    {
     "name": "stdout",
     "output_type": "stream",
     "text": [
      "120\n",
      "3628800\n",
      "10299016745145627623848583864765044283053772454999072182325491776887871732475287174542709871683888003235965704141638377695179741979175588724736000000000000000000000000\n"
     ]
    }
   ],
   "source": [
    "def factorial(n):\n",
    "    if n == 0 or n == 1:\n",
    "        return 1\n",
    "    else:\n",
    "        return n * factorial(n - 1)\n",
    "print(factorial(5))  \n",
    "print(factorial(10))  \n",
    "print(factorial(104)) \n"
   ]
  },
  {
   "cell_type": "markdown",
   "id": "b0235d7f",
   "metadata": {},
   "source": [
    "### 114. Fibonacci Series: Write a recursive Python function called `Fibonacci` that takes an integer N as input and returns the Nth number in the Fibonacci series. The Fibonacci series is defined as follows: F(0) = 0, F(1) = 1, and F(n) = F(n-1) + F(n-2) for n > 1."
   ]
  },
  {
   "cell_type": "code",
   "execution_count": 138,
   "id": "d58ba6a3",
   "metadata": {},
   "outputs": [
    {
     "name": "stdout",
     "output_type": "stream",
     "text": [
      "144\n",
      "86267571272\n",
      "190173380518541262644908836314147509997243394930954381097638787546788263422418459467776989498542041312046985\n",
      "377\n"
     ]
    }
   ],
   "source": [
    "def fibonacci(n):\n",
    "    fib_series = [0, 1]\n",
    "\n",
    "    if n < 0:\n",
    "        return \"Input must be a non-negative integer.\"\n",
    "    elif n < 2:\n",
    "        return fib_series[n]\n",
    "\n",
    "    for i in range(2, n + 1):\n",
    "        fib_series.append(fib_series[i - 1] + fib_series[i - 2])\n",
    "\n",
    "    return fib_series[n]\n",
    "\n",
    "print(fibonacci(12))  \n",
    "print(fibonacci(54))  \n",
    "print(fibonacci(515))  \n",
    "print(fibonacci(14)) \n"
   ]
  },
  {
   "cell_type": "markdown",
   "id": "2bf35166",
   "metadata": {},
   "source": [
    "### 115. The sum of Digits: Write a recursive Python function called `sum_of_digits` that takes an integer as input and returns the sum of its digits."
   ]
  },
  {
   "cell_type": "code",
   "execution_count": 139,
   "id": "49e3a434",
   "metadata": {},
   "outputs": [
    {
     "name": "stdout",
     "output_type": "stream",
     "text": [
      "13\n",
      "17\n",
      "12\n"
     ]
    }
   ],
   "source": [
    "def sum_of_digits(n):\n",
    "    if n < 0:\n",
    "        n = abs(n)\n",
    "\n",
    "    if n < 10:\n",
    "        return n\n",
    "    else:\n",
    "        return n % 10 + sum_of_digits(n // 10)\n",
    "\n",
    "print(sum_of_digits(157))   \n",
    "print(sum_of_digits(-24911))  \n",
    "print(sum_of_digits(642)) \n"
   ]
  },
  {
   "cell_type": "markdown",
   "id": "8b55873b",
   "metadata": {},
   "source": [
    "### 116. Binary Search: Write a recursive Python function called `binary_search` that takes a sorted list and a target value as input and returns the index of the target value in the list using binary search. If the target value is not in the list, return -1."
   ]
  },
  {
   "cell_type": "code",
   "execution_count": 142,
   "id": "ab3f04a4",
   "metadata": {},
   "outputs": [
    {
     "name": "stdin",
     "output_type": "stream",
     "text": [
      "Enter a sorted list of integers separated by spaces:  4 5 6 7 8 9\n",
      "Enter the target value to search:  6\n"
     ]
    },
    {
     "name": "stdout",
     "output_type": "stream",
     "text": [
      "The target value 6 is at index 2.\n"
     ]
    }
   ],
   "source": [
    "def binary_search(sorted_list, target, start=0, end=None):\n",
    "    if end is None:\n",
    "        end = len(sorted_list) - 1\n",
    "\n",
    "    if start <= end:\n",
    "        mid = (start + end) // 2\n",
    "\n",
    "        if sorted_list[mid] == target:\n",
    "            return mid\n",
    "        elif sorted_list[mid] < target:\n",
    "            return binary_search(sorted_list, target, mid + 1, end)\n",
    "        else:\n",
    "            return binary_search(sorted_list, target, start, mid - 1)\n",
    "    else:\n",
    "        return -1\n",
    "\n",
    "sorted_list = [int(x) for x in input(\"Enter a sorted list of integers separated by spaces: \").split()]\n",
    "target_value = int(input(\"Enter the target value to search: \"))\n",
    "\n",
    "result = binary_search(sorted_list, target_value)\n",
    "\n",
    "if result != -1:\n",
    "    print(f\"The target value {target_value} is at index {result}.\")\n",
    "else:\n",
    "    print(f\"The target value {target_value} is not in the list.\")\n"
   ]
  },
  {
   "cell_type": "markdown",
   "id": "ff29f3f4",
   "metadata": {},
   "source": [
    "### 117. Power Calculation: Write a recursive Python function called `power` that takes two positive integers, base and exponent, as input and returns the value of base raised to the exponent."
   ]
  },
  {
   "cell_type": "code",
   "execution_count": 143,
   "id": "70a290cf",
   "metadata": {},
   "outputs": [
    {
     "name": "stdin",
     "output_type": "stream",
     "text": [
      "Enter the base (a positive integer):  4\n",
      "Enter the exponent (a non-negative integer):  2\n"
     ]
    },
    {
     "name": "stdout",
     "output_type": "stream",
     "text": [
      "The result of 4 raised to the power of 2 is: 16\n"
     ]
    }
   ],
   "source": [
    "def power(base, exponent):\n",
    "    if exponent == 0:\n",
    "        return 1\n",
    "    else:\n",
    "        return base * power(base, exponent - 1)\n",
    "\n",
    "base_input = int(input(\"Enter the base (a positive integer): \"))\n",
    "exponent_input = int(input(\"Enter the exponent (a non-negative integer): \"))\n",
    "\n",
    "result = power(base_input, exponent_input)\n",
    "print(f\"The result of {base_input} raised to the power of {exponent_input} is: {result}\")\n"
   ]
  },
  {
   "cell_type": "code",
   "execution_count": null,
   "id": "b8375f06",
   "metadata": {},
   "outputs": [],
   "source": []
  }
 ],
 "metadata": {
  "kernelspec": {
   "display_name": "Python 3 (ipykernel)",
   "language": "python",
   "name": "python3"
  },
  "language_info": {
   "codemirror_mode": {
    "name": "ipython",
    "version": 3
   },
   "file_extension": ".py",
   "mimetype": "text/x-python",
   "name": "python",
   "nbconvert_exporter": "python",
   "pygments_lexer": "ipython3",
   "version": "3.11.5"
  }
 },
 "nbformat": 4,
 "nbformat_minor": 5
}
