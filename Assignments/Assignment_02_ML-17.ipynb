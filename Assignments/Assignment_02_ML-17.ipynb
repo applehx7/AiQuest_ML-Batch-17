{
 "cells": [
  {
   "cell_type": "markdown",
   "id": "3dbced3b",
   "metadata": {},
   "source": [
    "# Python Conditions 1-4"
   ]
  },
  {
   "cell_type": "markdown",
   "id": "3d561d09",
   "metadata": {},
   "source": [
    "### 1. Take values of the length & breadth of a rectangle from user input and check if it is square or not."
   ]
  },
  {
   "cell_type": "code",
   "execution_count": null,
   "id": "98fca730",
   "metadata": {
    "scrolled": true
   },
   "outputs": [],
   "source": [
    "length = float(input(\"Length: \"))\n",
    "breadth = float(input(\"Breadth: \"))\n",
    "\n",
    "if length == breadth:\n",
    "    print(\"Square\")\n",
    "else:\n",
    "    print('Rectangle(Not Square)')"
   ]
  },
  {
   "cell_type": "markdown",
   "id": "695a07b5",
   "metadata": {},
   "source": [
    "### 2. Take three integer values from the user and print the greatest among them."
   ]
  },
  {
   "cell_type": "code",
   "execution_count": null,
   "id": "ba5e5b6f",
   "metadata": {
    "scrolled": true
   },
   "outputs": [],
   "source": [
    "integer_1 = int(input(\"Int 1: \"))\n",
    "integer_2 = int(input(\"Int 2: \"))\n",
    "integer_3 = int(input(\"Int 3: \"))\n",
    "\n",
    "if integer_1 > integer_2:\n",
    "    if integer_1 > integer_3:\n",
    "        print(\"Greatest:\", integer_1)\n",
    "    elif integer_1 < integer_3:\n",
    "        print(\"Greatest:\", integer_3)\n",
    "elif integer_2 > integer_3:\n",
    "    print(\"Greatest:\", integer_2)\n",
    "else:\n",
    "    print(\"Greatest:\", integer_3)"
   ]
  },
  {
   "cell_type": "markdown",
   "id": "f594356b",
   "metadata": {},
   "source": [
    "### 3. A student will not be allowed to sit in an exam if his/her attendance is less than 75%."
   ]
  },
  {
   "cell_type": "code",
   "execution_count": null,
   "id": "01dfd7fe",
   "metadata": {
    "scrolled": false
   },
   "outputs": [],
   "source": [
    "total_classes = int(input(\"Total Classes: \"))\n",
    "attended_classes = int(input(\"Attended Classes: \"))\n",
    "\n",
    "attendance_percentage = (attended_classes/total_classes)*100\n",
    "\n",
    "if attendance_percentage >= 75:\n",
    "    print(\"You are allowed to sit in exam!\")\n",
    "elif attendance_percentage < 75:\n",
    "    print(\"You are not allowed to sit in exam. Your attendance percentage is low\")\n",
    "else:\n",
    "    print(\"Error\")"
   ]
  },
  {
   "cell_type": "markdown",
   "id": "8f849675",
   "metadata": {},
   "source": [
    "### 4. A school has the following rules for the grading system:\n",
    "Below 25 – F, 25 to 44 – E, 45 to 49 – D, 50 to 59 – C, 60 to 79 – B, 80 to 89 - A, Above 90 - A+\n",
    "Now, Ask the user to enter marks and print the corresponding grade."
   ]
  },
  {
   "cell_type": "code",
   "execution_count": null,
   "id": "0a6da21c",
   "metadata": {},
   "outputs": [],
   "source": [
    "def get_grade(mark):\n",
    "    match mark:\n",
    "        case n if n >= 90:\n",
    "            return \"A+\"\n",
    "        case n if n >= 80 and n <= 89:\n",
    "            return \"A\"\n",
    "        case n if n >= 60 and n <= 79:\n",
    "            return \"B\"\n",
    "        case n if n >= 50 and n <= 59:\n",
    "            return \"C\"\n",
    "        case n if n >= 45 and n <= 49:\n",
    "            return \"D\"\n",
    "        case n if n >= 25 and n <= 44:\n",
    "            return \"E\"\n",
    "        case n if n >= 0 and n <= 24:\n",
    "            return \"F\"\n",
    "        case _:\n",
    "            return \"Error Occured\"\n",
    "\n",
    "student_marks = int(input(\"Enter Your Marks: \"))\n",
    "print(f\"Your Marks: {student_marks}, Your Grade: {get_grade(student_marks)}\")"
   ]
  },
  {
   "cell_type": "markdown",
   "id": "dfc6dd40",
   "metadata": {},
   "source": [
    "# Loop Problem 5-11"
   ]
  },
  {
   "cell_type": "markdown",
   "id": "7e3523c0",
   "metadata": {},
   "source": [
    "### 5. Print the following pattern using for and while loop.\n",
    "1 2 3 4 5 6 7\n",
    "1 2 3 4 5 6\n",
    "1 2 3 4 5\n",
    "1 2 3 4"
   ]
  },
  {
   "cell_type": "code",
   "execution_count": null,
   "id": "1b952e56",
   "metadata": {},
   "outputs": [],
   "source": [
    "def using_for_loop():\n",
    "    k = 7\n",
    "    for j in range(7):\n",
    "        for i in range(k):\n",
    "            print(i+1, end='')\n",
    "        k -= 1\n",
    "        print()\n",
    "\n",
    "def using_while_loop():\n",
    "    i = 1\n",
    "    j = 7\n",
    "    while j != 0:\n",
    "        while i <= j:\n",
    "            print(i, end='')\n",
    "            i += 1\n",
    "        print()\n",
    "        j -= 1\n",
    "        i = 1\n",
    "\n",
    "using_while_loop()\n",
    "using_for_loop()"
   ]
  },
  {
   "cell_type": "markdown",
   "id": "680fdf1b",
   "metadata": {},
   "source": [
    "### 6. Display numbers from -100 to -10 using for loop."
   ]
  },
  {
   "cell_type": "code",
   "execution_count": null,
   "id": "7c7a1230",
   "metadata": {},
   "outputs": [],
   "source": [
    "for i in range(-100, -9):\n",
    "    print(i)\n"
   ]
  },
  {
   "cell_type": "markdown",
   "id": "2baf15b6",
   "metadata": {},
   "source": [
    "### 7. Write a program to sum all prime numbers within a range of 10 to 1000."
   ]
  },
  {
   "cell_type": "code",
   "execution_count": null,
   "id": "d3a5a541",
   "metadata": {},
   "outputs": [],
   "source": [
    "def is_prime(number):\n",
    "    if number == 1:\n",
    "        return False\n",
    "    for i in range(2, number):\n",
    "        if number%i == 0:\n",
    "            return False\n",
    "    return True\n",
    "\n",
    "result = 0\n",
    "for i in range(10, 1000):\n",
    "    if is_prime(i):\n",
    "        result += i\n",
    "print(result)"
   ]
  },
  {
   "cell_type": "markdown",
   "id": "95f9b51b",
   "metadata": {},
   "source": [
    "### 8. Find the factorial of an n! (Hint, n=7: 7*6*5*4*3*2*1)."
   ]
  },
  {
   "cell_type": "code",
   "execution_count": null,
   "id": "0de6d05a",
   "metadata": {},
   "outputs": [],
   "source": [
    "def find_factorial(number):\n",
    "    res = 1\n",
    "    for i in range(1, number+1):\n",
    "        res *= i\n",
    "    return res\n",
    "\n",
    "user_input = int(input(\"Find Factorial: \"))\n",
    "factorial = find_factorial(user_input)\n",
    "print(factorial)"
   ]
  },
  {
   "cell_type": "markdown",
   "id": "595aa464",
   "metadata": {},
   "source": [
    "### 9. Reverse a given integer number 27956240710."
   ]
  },
  {
   "cell_type": "code",
   "execution_count": null,
   "id": "4306509b",
   "metadata": {},
   "outputs": [],
   "source": [
    "given_int = input(\"Type Your Integer: \")\n",
    "reversed_int = given_int[::-1]\n",
    "print(f\"Given Integer:{given_int}\\nReversed Int:{reversed_int}\")"
   ]
  },
  {
   "cell_type": "markdown",
   "id": "b6a48d34",
   "metadata": {},
   "source": [
    "### 10. Print the following pattern using for and while loop.\n",
    "(pattern here)"
   ]
  },
  {
   "cell_type": "code",
   "execution_count": null,
   "id": "bccccb5d",
   "metadata": {},
   "outputs": [],
   "source": [
    "def using_for_loop():\n",
    "    for i in range(3,5):\n",
    "        print('#'*i)\n",
    "    for i in range(3,1,-1):\n",
    "        print('#'*i)\n",
    "    \n",
    "def using_while_loop():\n",
    "    i = 3\n",
    "    while i < 5:\n",
    "        print('#'*i)\n",
    "        i += 1\n",
    "    j = 3\n",
    "    while j > 1:\n",
    "        print('#'*j)\n",
    "        j -= 1\n",
    "        \n",
    "print('Using While loop:')\n",
    "using_while_loop()\n",
    "print('Using For loop:')\n",
    "using_for_loop()"
   ]
  },
  {
   "cell_type": "markdown",
   "id": "5e0b7b83",
   "metadata": {},
   "source": [
    "### 11. Display the Fibonacci series of 15 elements using the for and while loop."
   ]
  },
  {
   "cell_type": "code",
   "execution_count": null,
   "id": "b795b407",
   "metadata": {
    "scrolled": false
   },
   "outputs": [],
   "source": [
    "def for_loop_fibo(n):\n",
    "    x = 0\n",
    "    y = 1\n",
    "    print(f\"{x}\\n{y}\")\n",
    "    for i in range(2, n):\n",
    "        xy_sum = x+y\n",
    "        print(xy_sum)\n",
    "        x = y\n",
    "        y = xy_sum\n",
    "\n",
    "def while_loop_fibo(n):\n",
    "    x = 0\n",
    "    y = 1\n",
    "    print(f\"{x}\\n{y}\")\n",
    "    i = 2\n",
    "    while i<n:\n",
    "        xy_sum = x+y\n",
    "        print(xy_sum)\n",
    "        x = y\n",
    "        y = xy_sum\n",
    "        i += 1\n",
    "\n",
    "number_of_ele = 15\n",
    "print(\"Using For Loop: \")\n",
    "for_loop_fibo(number_of_ele)\n",
    "print(\"Using While Loop: \")\n",
    "while_loop_fibo(number_of_ele)"
   ]
  },
  {
   "cell_type": "markdown",
   "id": "030d47ab",
   "metadata": {},
   "source": [
    "# Python inbuilt Data Structure:"
   ]
  },
  {
   "cell_type": "markdown",
   "id": "d232f008",
   "metadata": {},
   "source": [
    "### 12. Remove 2 and add 3 to the list and replace True with False.\n",
    "Li = [1,3,5, [2,3], True]\n",
    "Output = [1,3,5, [3,3], False]"
   ]
  },
  {
   "cell_type": "code",
   "execution_count": null,
   "id": "b712c420",
   "metadata": {},
   "outputs": [],
   "source": [
    "li = [1,3,5, [2,3], True]\n",
    "print(f\"Input: {li}\")\n",
    "for n in range(len(li)):\n",
    "    if type(li[n]) == list:\n",
    "        for i in range(len(li[n])):\n",
    "            if li[n][i] == 2:\n",
    "                li[n][i] = 3\n",
    "    elif li[n] is True:\n",
    "        li[n] = False\n",
    "print(f\"Output: {li}\")"
   ]
  },
  {
   "cell_type": "markdown",
   "id": "42b368ba",
   "metadata": {},
   "source": [
    "### 13. Find the intersection (common) of two sets.\n",
    "S1 = {1,4,6,8}\n",
    "S2 = {True, 1,2,10}"
   ]
  },
  {
   "cell_type": "code",
   "execution_count": null,
   "id": "4f611f8a",
   "metadata": {},
   "outputs": [],
   "source": [
    "s1 = {1,4,6,8}\n",
    "s2 = {True, 1,2,10}\n",
    "commons = set()\n",
    "for item in s1:\n",
    "    if item in s2:\n",
    "        commons.add(item)\n",
    "print(commons)"
   ]
  },
  {
   "cell_type": "markdown",
   "id": "c4878235",
   "metadata": {},
   "source": [
    "### 14. Input a list from the user then Remove duplicates from a list and create a set and find the max\n",
    "number. User_input = [1,9,3,4,5,200,54]"
   ]
  },
  {
   "cell_type": "code",
   "execution_count": null,
   "id": "662a4c10",
   "metadata": {
    "scrolled": true
   },
   "outputs": [],
   "source": [
    "user_input = [1,9,3,4,5,200,54]\n",
    "\n",
    "#remove duplicates using set()\n",
    "unique_list = set(user_input)\n",
    "print(unique_list)\n",
    "\n",
    "max_n = 0\n",
    "for i in unique_list:\n",
    "    if i > max_n:\n",
    "        max_n = i\n",
    "print(max_n)\n",
    "\n",
    "#using max() function\n",
    "maxx = max(unique_list)\n",
    "print(maxx)"
   ]
  },
  {
   "cell_type": "markdown",
   "id": "16ee6430",
   "metadata": {},
   "source": [
    "### 15. Rename the key of a dictionary.\n",
    "Dict = { \"name\": \"Shakil\", \"age\":27, \"city\": “Berlin”, \"country\": \"Germany\" }\n",
    "Write a program to rename a key ‘country’ to a ‘region’ in the following dictionary."
   ]
  },
  {
   "cell_type": "code",
   "execution_count": null,
   "id": "55a7c635",
   "metadata": {},
   "outputs": [],
   "source": [
    "Dict = { \"name\": \"Shakil\", \"age\":27, \"city\": \"Berlin\", \"country\": \"Germany\" }\n",
    "print(\"Before Rename:\\n\", Dict)\n",
    "Dict[\"region\"] = Dict.pop(\"country\")\n",
    "print(\"After Rename:\\n\", Dict)"
   ]
  },
  {
   "cell_type": "markdown",
   "id": "561e4074",
   "metadata": {},
   "source": [
    "### 16. Creating a data frame using the list.\n",
    "num = [10,100,300] (column name is number)"
   ]
  },
  {
   "cell_type": "code",
   "execution_count": null,
   "id": "4be69d54",
   "metadata": {},
   "outputs": [],
   "source": [
    "num = [10,100,300]\n",
    "\n",
    "data = []\n",
    "\n",
    "for number in num:\n",
    "    data.append({'number': number})\n",
    "print(data)"
   ]
  },
  {
   "cell_type": "markdown",
   "id": "92ad8fc5",
   "metadata": {},
   "source": [
    "### 17. Change the value of a key in a given dictionary.\n",
    "Write a Python program to change ‘age’ to 28 in the following dictionary.\n",
    "Dict = { \"name\": \"Shakil\", \"age\":27, \"city\": “Berlin”, \"country\": \"Germany\" }"
   ]
  },
  {
   "cell_type": "code",
   "execution_count": null,
   "id": "17deb208",
   "metadata": {},
   "outputs": [],
   "source": [
    "Dict = { \"name\": \"Shakil\", \"age\":27, \"city\": \"Berlin\", \"country\": \"Germany\" }\n",
    "print(\"Before Change:\\n\", Dict)\n",
    "Dict['age'] = 28\n",
    "print(\"After Change:\\n\", Dict)"
   ]
  }
 ],
 "metadata": {
  "kernelspec": {
   "display_name": "Python 3 (ipykernel)",
   "language": "python",
   "name": "python3"
  },
  "language_info": {
   "codemirror_mode": {
    "name": "ipython",
    "version": 3
   },
   "file_extension": ".py",
   "mimetype": "text/x-python",
   "name": "python",
   "nbconvert_exporter": "python",
   "pygments_lexer": "ipython3",
   "version": "3.11.3"
  }
 },
 "nbformat": 4,
 "nbformat_minor": 5
}
